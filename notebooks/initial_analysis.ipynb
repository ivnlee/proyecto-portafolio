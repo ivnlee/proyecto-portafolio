{
 "cells": [
  {
   "cell_type": "code",
   "execution_count": 16,
   "metadata": {},
   "outputs": [],
   "source": [
    "# import libraries\n",
    "\n",
    "import pandas as pd "
   ]
  },
  {
   "attachments": {},
   "cell_type": "markdown",
   "metadata": {},
   "source": [
    "#### **Tabla 1: Business**"
   ]
  },
  {
   "cell_type": "code",
   "execution_count": 17,
   "metadata": {},
   "outputs": [
    {
     "data": {
      "text/html": [
       "<div>\n",
       "<style scoped>\n",
       "    .dataframe tbody tr th:only-of-type {\n",
       "        vertical-align: middle;\n",
       "    }\n",
       "\n",
       "    .dataframe tbody tr th {\n",
       "        vertical-align: top;\n",
       "    }\n",
       "\n",
       "    .dataframe thead th {\n",
       "        text-align: right;\n",
       "    }\n",
       "</style>\n",
       "<table border=\"1\" class=\"dataframe\">\n",
       "  <thead>\n",
       "    <tr style=\"text-align: right;\">\n",
       "      <th></th>\n",
       "      <th>business_id</th>\n",
       "      <th>name</th>\n",
       "      <th>address</th>\n",
       "      <th>city</th>\n",
       "      <th>state</th>\n",
       "      <th>postal_code</th>\n",
       "      <th>latitude</th>\n",
       "      <th>longitude</th>\n",
       "      <th>stars</th>\n",
       "      <th>review_count</th>\n",
       "      <th>is_open</th>\n",
       "      <th>attributes</th>\n",
       "      <th>categories</th>\n",
       "      <th>hours</th>\n",
       "    </tr>\n",
       "  </thead>\n",
       "  <tbody>\n",
       "    <tr>\n",
       "      <th>0</th>\n",
       "      <td>Pns2l4eNsfO8kk83dixA6A</td>\n",
       "      <td>Abby Rappoport, LAC, CMQ</td>\n",
       "      <td>1616 Chapala St, Ste 2</td>\n",
       "      <td>Santa Barbara</td>\n",
       "      <td>CA</td>\n",
       "      <td>93101</td>\n",
       "      <td>34.426679</td>\n",
       "      <td>-119.711197</td>\n",
       "      <td>5.0</td>\n",
       "      <td>7</td>\n",
       "      <td>0</td>\n",
       "      <td>{'ByAppointmentOnly': 'True'}</td>\n",
       "      <td>Doctors, Traditional Chinese Medicine, Naturop...</td>\n",
       "      <td>None</td>\n",
       "    </tr>\n",
       "    <tr>\n",
       "      <th>1</th>\n",
       "      <td>mpf3x-BjTdTEA3yCZrAYPw</td>\n",
       "      <td>The UPS Store</td>\n",
       "      <td>87 Grasso Plaza Shopping Center</td>\n",
       "      <td>Affton</td>\n",
       "      <td>MO</td>\n",
       "      <td>63123</td>\n",
       "      <td>38.551126</td>\n",
       "      <td>-90.335695</td>\n",
       "      <td>3.0</td>\n",
       "      <td>15</td>\n",
       "      <td>1</td>\n",
       "      <td>{'BusinessAcceptsCreditCards': 'True'}</td>\n",
       "      <td>Shipping Centers, Local Services, Notaries, Ma...</td>\n",
       "      <td>{'Monday': '0:0-0:0', 'Tuesday': '8:0-18:30', ...</td>\n",
       "    </tr>\n",
       "    <tr>\n",
       "      <th>2</th>\n",
       "      <td>tUFrWirKiKi_TAnsVWINQQ</td>\n",
       "      <td>Target</td>\n",
       "      <td>5255 E Broadway Blvd</td>\n",
       "      <td>Tucson</td>\n",
       "      <td>AZ</td>\n",
       "      <td>85711</td>\n",
       "      <td>32.223236</td>\n",
       "      <td>-110.880452</td>\n",
       "      <td>3.5</td>\n",
       "      <td>22</td>\n",
       "      <td>0</td>\n",
       "      <td>{'BikeParking': 'True', 'BusinessAcceptsCredit...</td>\n",
       "      <td>Department Stores, Shopping, Fashion, Home &amp; G...</td>\n",
       "      <td>{'Monday': '8:0-22:0', 'Tuesday': '8:0-22:0', ...</td>\n",
       "    </tr>\n",
       "  </tbody>\n",
       "</table>\n",
       "</div>"
      ],
      "text/plain": [
       "              business_id                      name  \\\n",
       "0  Pns2l4eNsfO8kk83dixA6A  Abby Rappoport, LAC, CMQ   \n",
       "1  mpf3x-BjTdTEA3yCZrAYPw             The UPS Store   \n",
       "2  tUFrWirKiKi_TAnsVWINQQ                    Target   \n",
       "\n",
       "                           address           city state postal_code  \\\n",
       "0           1616 Chapala St, Ste 2  Santa Barbara    CA       93101   \n",
       "1  87 Grasso Plaza Shopping Center         Affton    MO       63123   \n",
       "2             5255 E Broadway Blvd         Tucson    AZ       85711   \n",
       "\n",
       "    latitude   longitude  stars  review_count  is_open  \\\n",
       "0  34.426679 -119.711197    5.0             7        0   \n",
       "1  38.551126  -90.335695    3.0            15        1   \n",
       "2  32.223236 -110.880452    3.5            22        0   \n",
       "\n",
       "                                          attributes  \\\n",
       "0                      {'ByAppointmentOnly': 'True'}   \n",
       "1             {'BusinessAcceptsCreditCards': 'True'}   \n",
       "2  {'BikeParking': 'True', 'BusinessAcceptsCredit...   \n",
       "\n",
       "                                          categories  \\\n",
       "0  Doctors, Traditional Chinese Medicine, Naturop...   \n",
       "1  Shipping Centers, Local Services, Notaries, Ma...   \n",
       "2  Department Stores, Shopping, Fashion, Home & G...   \n",
       "\n",
       "                                               hours  \n",
       "0                                               None  \n",
       "1  {'Monday': '0:0-0:0', 'Tuesday': '8:0-18:30', ...  \n",
       "2  {'Monday': '8:0-22:0', 'Tuesday': '8:0-22:0', ...  "
      ]
     },
     "execution_count": 17,
     "metadata": {},
     "output_type": "execute_result"
    }
   ],
   "source": [
    "# Create Pandas dataframe from JSON file\n",
    "business = pd.read_json('./../data/yelp_business.json', lines=True)\n",
    "business.head(3) "
   ]
  },
  {
   "attachments": {},
   "cell_type": "markdown",
   "metadata": {},
   "source": [
    "#### **Tabla 2: User Reviews**"
   ]
  },
  {
   "cell_type": "code",
   "execution_count": 18,
   "metadata": {},
   "outputs": [
    {
     "data": {
      "text/html": [
       "<div>\n",
       "<style scoped>\n",
       "    .dataframe tbody tr th:only-of-type {\n",
       "        vertical-align: middle;\n",
       "    }\n",
       "\n",
       "    .dataframe tbody tr th {\n",
       "        vertical-align: top;\n",
       "    }\n",
       "\n",
       "    .dataframe thead th {\n",
       "        text-align: right;\n",
       "    }\n",
       "</style>\n",
       "<table border=\"1\" class=\"dataframe\">\n",
       "  <thead>\n",
       "    <tr style=\"text-align: right;\">\n",
       "      <th></th>\n",
       "      <th>review_id</th>\n",
       "      <th>user_id</th>\n",
       "      <th>business_id</th>\n",
       "      <th>stars</th>\n",
       "      <th>useful</th>\n",
       "      <th>funny</th>\n",
       "      <th>cool</th>\n",
       "      <th>text</th>\n",
       "      <th>date</th>\n",
       "    </tr>\n",
       "  </thead>\n",
       "  <tbody>\n",
       "    <tr>\n",
       "      <th>0</th>\n",
       "      <td>wek3rf2MRDhyCBRR9iiGlA</td>\n",
       "      <td>vjY9m43zBdUDrmTfUMJ75g</td>\n",
       "      <td>W4ZEKkva9HpAdZG88juwyQ</td>\n",
       "      <td>5.0</td>\n",
       "      <td>0</td>\n",
       "      <td>0</td>\n",
       "      <td>0</td>\n",
       "      <td>This is a really great restaurant with awesome...</td>\n",
       "      <td>2019-12-06 04:19:05</td>\n",
       "    </tr>\n",
       "    <tr>\n",
       "      <th>1</th>\n",
       "      <td>szh4wJ2VjLHOOhsT1V7Dfg</td>\n",
       "      <td>qIFbnyVpwAzywSKQbSSP-w</td>\n",
       "      <td>SQX3MkZ2ve5N1guTtAq6eg</td>\n",
       "      <td>5.0</td>\n",
       "      <td>0</td>\n",
       "      <td>0</td>\n",
       "      <td>0</td>\n",
       "      <td>We just closed on our home today and we couldn...</td>\n",
       "      <td>2019-12-27 00:20:39</td>\n",
       "    </tr>\n",
       "    <tr>\n",
       "      <th>2</th>\n",
       "      <td>t83PSg9MrLfBahKIE8uY5w</td>\n",
       "      <td>w6z5D4f608RR5JmkT9QUuw</td>\n",
       "      <td>sGLDJ4V4ezZZemFHCa0z_g</td>\n",
       "      <td>2.0</td>\n",
       "      <td>0</td>\n",
       "      <td>0</td>\n",
       "      <td>0</td>\n",
       "      <td>Well we wanted to try a new place in Sparks. I...</td>\n",
       "      <td>2019-12-23 02:50:59</td>\n",
       "    </tr>\n",
       "  </tbody>\n",
       "</table>\n",
       "</div>"
      ],
      "text/plain": [
       "                review_id                 user_id             business_id  \\\n",
       "0  wek3rf2MRDhyCBRR9iiGlA  vjY9m43zBdUDrmTfUMJ75g  W4ZEKkva9HpAdZG88juwyQ   \n",
       "1  szh4wJ2VjLHOOhsT1V7Dfg  qIFbnyVpwAzywSKQbSSP-w  SQX3MkZ2ve5N1guTtAq6eg   \n",
       "2  t83PSg9MrLfBahKIE8uY5w  w6z5D4f608RR5JmkT9QUuw  sGLDJ4V4ezZZemFHCa0z_g   \n",
       "\n",
       "   stars  useful  funny  cool  \\\n",
       "0    5.0       0      0     0   \n",
       "1    5.0       0      0     0   \n",
       "2    2.0       0      0     0   \n",
       "\n",
       "                                                text                 date  \n",
       "0  This is a really great restaurant with awesome...  2019-12-06 04:19:05  \n",
       "1  We just closed on our home today and we couldn...  2019-12-27 00:20:39  \n",
       "2  Well we wanted to try a new place in Sparks. I...  2019-12-23 02:50:59  "
      ]
     },
     "execution_count": 18,
     "metadata": {},
     "output_type": "execute_result"
    }
   ],
   "source": [
    "# Create Pandas dataframe from CSV file\n",
    "reviews = pd.read_csv('./../data/yelp_reviews_subset.csv')\n",
    "reviews.head(3)"
   ]
  },
  {
   "attachments": {},
   "cell_type": "markdown",
   "metadata": {},
   "source": [
    "#### **Pre-procesamiento y limpieza**"
   ]
  },
  {
   "cell_type": "code",
   "execution_count": 19,
   "metadata": {},
   "outputs": [
    {
     "name": "stdout",
     "output_type": "stream",
     "text": [
      "(150346, 14)\n",
      "(1268552, 9)\n"
     ]
    }
   ],
   "source": [
    "print(business.shape)\n",
    "print(reviews.shape)"
   ]
  },
  {
   "cell_type": "code",
   "execution_count": 20,
   "metadata": {},
   "outputs": [
    {
     "data": {
      "text/plain": [
       "business_id      object\n",
       "name             object\n",
       "address          object\n",
       "city             object\n",
       "state            object\n",
       "postal_code      object\n",
       "latitude        float64\n",
       "longitude       float64\n",
       "stars           float64\n",
       "review_count      int64\n",
       "is_open           int64\n",
       "attributes       object\n",
       "categories       object\n",
       "hours            object\n",
       "dtype: object"
      ]
     },
     "execution_count": 20,
     "metadata": {},
     "output_type": "execute_result"
    }
   ],
   "source": [
    "business.dtypes"
   ]
  },
  {
   "cell_type": "code",
   "execution_count": 21,
   "metadata": {},
   "outputs": [
    {
     "data": {
      "text/plain": [
       "review_id       object\n",
       "user_id         object\n",
       "business_id     object\n",
       "stars          float64\n",
       "useful           int64\n",
       "funny            int64\n",
       "cool             int64\n",
       "text            object\n",
       "date            object\n",
       "dtype: object"
      ]
     },
     "execution_count": 21,
     "metadata": {},
     "output_type": "execute_result"
    }
   ],
   "source": [
    "reviews.dtypes "
   ]
  },
  {
   "cell_type": "code",
   "execution_count": 22,
   "metadata": {},
   "outputs": [
    {
     "data": {
      "text/plain": [
       "(52286, 14)"
      ]
     },
     "execution_count": 22,
     "metadata": {},
     "output_type": "execute_result"
    }
   ],
   "source": [
    "# Create dataframe with Restaurants only\n",
    "restaurants = business[business.categories.fillna('-').str.lower().str.contains('restaurant')]\n",
    "restaurants.shape "
   ]
  },
  {
   "cell_type": "code",
   "execution_count": 23,
   "metadata": {},
   "outputs": [
    {
     "name": "stdout",
     "output_type": "stream",
     "text": [
      "<class 'pandas.core.frame.DataFrame'>\n",
      "Int64Index: 52286 entries, 3 to 150340\n",
      "Data columns (total 14 columns):\n",
      " #   Column        Non-Null Count  Dtype  \n",
      "---  ------        --------------  -----  \n",
      " 0   business_id   52286 non-null  object \n",
      " 1   name          52286 non-null  object \n",
      " 2   address       52286 non-null  object \n",
      " 3   city          52286 non-null  object \n",
      " 4   state         52286 non-null  object \n",
      " 5   postal_code   52286 non-null  object \n",
      " 6   latitude      52286 non-null  float64\n",
      " 7   longitude     52286 non-null  float64\n",
      " 8   stars         52286 non-null  float64\n",
      " 9   review_count  52286 non-null  int64  \n",
      " 10  is_open       52286 non-null  int64  \n",
      " 11  attributes    51720 non-null  object \n",
      " 12  categories    52286 non-null  object \n",
      " 13  hours         45007 non-null  object \n",
      "dtypes: float64(3), int64(2), object(9)\n",
      "memory usage: 6.0+ MB\n"
     ]
    }
   ],
   "source": [
    "restaurants.info()"
   ]
  },
  {
   "cell_type": "code",
   "execution_count": 24,
   "metadata": {},
   "outputs": [
    {
     "name": "stderr",
     "output_type": "stream",
     "text": [
      "/var/folders/kx/y44q1zf12s573t4djdfy9_n00000gn/T/ipykernel_17447/2842125212.py:2: SettingWithCopyWarning: \n",
      "A value is trying to be set on a copy of a slice from a DataFrame\n",
      "\n",
      "See the caveats in the documentation: https://pandas.pydata.org/pandas-docs/stable/user_guide/indexing.html#returning-a-view-versus-a-copy\n",
      "  restaurants.drop(['is_open','attributes','hours'], axis=1, inplace=True)\n"
     ]
    }
   ],
   "source": [
    "# Drop columns that will not be used\n",
    "restaurants.drop(['is_open','attributes','hours'], axis=1, inplace=True)"
   ]
  },
  {
   "cell_type": "code",
   "execution_count": 25,
   "metadata": {},
   "outputs": [
    {
     "data": {
      "text/plain": [
       "array(['PA', 'TN', 'MO', 'FL', 'IN', 'AB', 'NV', 'IL', 'AZ', 'LA', 'NJ',\n",
       "       'CA', 'DE', 'ID', 'NC', 'CO', 'HI', 'MT', 'XMS'], dtype=object)"
      ]
     },
     "execution_count": 25,
     "metadata": {},
     "output_type": "execute_result"
    }
   ],
   "source": [
    "# Check unique states in the dataset\n",
    "restaurants['state'].unique()"
   ]
  },
  {
   "attachments": {},
   "cell_type": "markdown",
   "metadata": {},
   "source": [
    "#### Seleccionamos el estado de California\n",
    "Para nuestro sistema de recomendaciones, tiene mas sentido enfocarse en una zona geográfica pequeña."
   ]
  },
  {
   "cell_type": "code",
   "execution_count": 26,
   "metadata": {},
   "outputs": [
    {
     "name": "stdout",
     "output_type": "stream",
     "text": [
      "['CA']\n"
     ]
    },
    {
     "data": {
      "text/plain": [
       "(1161, 11)"
      ]
     },
     "execution_count": 26,
     "metadata": {},
     "output_type": "execute_result"
    }
   ],
   "source": [
    "# Select restaurants in California only\n",
    "ca_restaurants = restaurants[restaurants.state.str.contains('CA')]\n",
    "\n",
    "print(ca_restaurants['state'].unique())\n",
    "ca_restaurants.shape"
   ]
  },
  {
   "attachments": {},
   "cell_type": "markdown",
   "metadata": {},
   "source": [
    "Observamos que en ambas tablas existe la columna con el nombre 'stars', esto puede ser confuso al unir las tablas. Por lo tanto en la tabla de restaurantes la renombramos como 'avg_rating'."
   ]
  },
  {
   "cell_type": "code",
   "execution_count": 27,
   "metadata": {},
   "outputs": [
    {
     "name": "stdout",
     "output_type": "stream",
     "text": [
      "Index(['business_id', 'name', 'address', 'city', 'state', 'postal_code',\n",
      "       'latitude', 'longitude', 'avg_rating', 'review_count', 'categories'],\n",
      "      dtype='object')\n"
     ]
    },
    {
     "name": "stderr",
     "output_type": "stream",
     "text": [
      "/var/folders/kx/y44q1zf12s573t4djdfy9_n00000gn/T/ipykernel_17447/839161261.py:5: SettingWithCopyWarning: \n",
      "A value is trying to be set on a copy of a slice from a DataFrame\n",
      "\n",
      "See the caveats in the documentation: https://pandas.pydata.org/pandas-docs/stable/user_guide/indexing.html#returning-a-view-versus-a-copy\n",
      "  ca_restaurants.rename(columns={'stars':'avg_rating'}, inplace=True)\n"
     ]
    }
   ],
   "source": [
    "# Before joining the ca_restaurants table with the User Reviews table\n",
    "# we will rename the 'stars' column in the restaurants table as 'avg_rating'\n",
    "# the 'stars' column in the Reviews table represents the user's rating \n",
    "\n",
    "ca_restaurants.rename(columns={'stars':'avg_rating'}, inplace=True) \n",
    "\n",
    "print(ca_restaurants.columns)"
   ]
  },
  {
   "cell_type": "code",
   "execution_count": 28,
   "metadata": {},
   "outputs": [
    {
     "data": {
      "text/html": [
       "<div>\n",
       "<style scoped>\n",
       "    .dataframe tbody tr th:only-of-type {\n",
       "        vertical-align: middle;\n",
       "    }\n",
       "\n",
       "    .dataframe tbody tr th {\n",
       "        vertical-align: top;\n",
       "    }\n",
       "\n",
       "    .dataframe thead th {\n",
       "        text-align: right;\n",
       "    }\n",
       "</style>\n",
       "<table border=\"1\" class=\"dataframe\">\n",
       "  <thead>\n",
       "    <tr style=\"text-align: right;\">\n",
       "      <th></th>\n",
       "      <th>review_id</th>\n",
       "      <th>user_id</th>\n",
       "      <th>business_id</th>\n",
       "      <th>stars</th>\n",
       "      <th>useful</th>\n",
       "      <th>funny</th>\n",
       "      <th>cool</th>\n",
       "      <th>text</th>\n",
       "      <th>date</th>\n",
       "      <th>name</th>\n",
       "      <th>address</th>\n",
       "      <th>city</th>\n",
       "      <th>state</th>\n",
       "      <th>postal_code</th>\n",
       "      <th>latitude</th>\n",
       "      <th>longitude</th>\n",
       "      <th>avg_rating</th>\n",
       "      <th>review_count</th>\n",
       "      <th>categories</th>\n",
       "    </tr>\n",
       "  </thead>\n",
       "  <tbody>\n",
       "    <tr>\n",
       "      <th>0</th>\n",
       "      <td>5-tLhwWjSzHYN6NyMy9Suw</td>\n",
       "      <td>IlWLPCRQp8iqX0X-ExQccQ</td>\n",
       "      <td>bdfZdB2MTXlT6-RBjSIpQg</td>\n",
       "      <td>4.0</td>\n",
       "      <td>0</td>\n",
       "      <td>0</td>\n",
       "      <td>0</td>\n",
       "      <td>The fried rice and pho are really delicious. T...</td>\n",
       "      <td>2020-01-26 21:21:04</td>\n",
       "      <td>Pho Bistro</td>\n",
       "      <td>903 Embarcadero Del Norte</td>\n",
       "      <td>Isla Vista</td>\n",
       "      <td>CA</td>\n",
       "      <td>93117</td>\n",
       "      <td>34.412934</td>\n",
       "      <td>-119.855531</td>\n",
       "      <td>3.0</td>\n",
       "      <td>184</td>\n",
       "      <td>Food, Restaurants, Chinese, Bubble Tea, Vietna...</td>\n",
       "    </tr>\n",
       "  </tbody>\n",
       "</table>\n",
       "</div>"
      ],
      "text/plain": [
       "                review_id                 user_id             business_id  \\\n",
       "0  5-tLhwWjSzHYN6NyMy9Suw  IlWLPCRQp8iqX0X-ExQccQ  bdfZdB2MTXlT6-RBjSIpQg   \n",
       "\n",
       "   stars  useful  funny  cool  \\\n",
       "0    4.0       0      0     0   \n",
       "\n",
       "                                                text                 date  \\\n",
       "0  The fried rice and pho are really delicious. T...  2020-01-26 21:21:04   \n",
       "\n",
       "         name                    address        city state postal_code  \\\n",
       "0  Pho Bistro  903 Embarcadero Del Norte  Isla Vista    CA       93117   \n",
       "\n",
       "    latitude   longitude  avg_rating  review_count  \\\n",
       "0  34.412934 -119.855531         3.0           184   \n",
       "\n",
       "                                          categories  \n",
       "0  Food, Restaurants, Chinese, Bubble Tea, Vietna...  "
      ]
     },
     "execution_count": 28,
     "metadata": {},
     "output_type": "execute_result"
    }
   ],
   "source": [
    "# Join tables using 'bussines_id' as the key\n",
    "df = reviews.merge(ca_restaurants, on = 'business_id')\n",
    "df.head(1)"
   ]
  },
  {
   "cell_type": "code",
   "execution_count": 29,
   "metadata": {},
   "outputs": [
    {
     "data": {
      "text/html": [
       "<div>\n",
       "<style scoped>\n",
       "    .dataframe tbody tr th:only-of-type {\n",
       "        vertical-align: middle;\n",
       "    }\n",
       "\n",
       "    .dataframe tbody tr th {\n",
       "        vertical-align: top;\n",
       "    }\n",
       "\n",
       "    .dataframe thead th {\n",
       "        text-align: right;\n",
       "    }\n",
       "</style>\n",
       "<table border=\"1\" class=\"dataframe\">\n",
       "  <thead>\n",
       "    <tr style=\"text-align: right;\">\n",
       "      <th></th>\n",
       "      <th>review_id</th>\n",
       "      <th>user_id</th>\n",
       "      <th>business_id</th>\n",
       "      <th>stars</th>\n",
       "      <th>text</th>\n",
       "      <th>date</th>\n",
       "      <th>name</th>\n",
       "      <th>address</th>\n",
       "      <th>city</th>\n",
       "      <th>state</th>\n",
       "      <th>postal_code</th>\n",
       "      <th>latitude</th>\n",
       "      <th>longitude</th>\n",
       "      <th>avg_rating</th>\n",
       "      <th>review_count</th>\n",
       "      <th>categories</th>\n",
       "    </tr>\n",
       "  </thead>\n",
       "  <tbody>\n",
       "    <tr>\n",
       "      <th>0</th>\n",
       "      <td>5-tLhwWjSzHYN6NyMy9Suw</td>\n",
       "      <td>IlWLPCRQp8iqX0X-ExQccQ</td>\n",
       "      <td>bdfZdB2MTXlT6-RBjSIpQg</td>\n",
       "      <td>4.0</td>\n",
       "      <td>The fried rice and pho are really delicious. T...</td>\n",
       "      <td>2020-01-26 21:21:04</td>\n",
       "      <td>Pho Bistro</td>\n",
       "      <td>903 Embarcadero Del Norte</td>\n",
       "      <td>Isla Vista</td>\n",
       "      <td>CA</td>\n",
       "      <td>93117</td>\n",
       "      <td>34.412934</td>\n",
       "      <td>-119.855531</td>\n",
       "      <td>3.0</td>\n",
       "      <td>184</td>\n",
       "      <td>Food, Restaurants, Chinese, Bubble Tea, Vietna...</td>\n",
       "    </tr>\n",
       "    <tr>\n",
       "      <th>1</th>\n",
       "      <td>3oJ5RgOyaOsJVVLDTGNDOA</td>\n",
       "      <td>WSMIRegvrsEgFGEraf_LwQ</td>\n",
       "      <td>bdfZdB2MTXlT6-RBjSIpQg</td>\n",
       "      <td>5.0</td>\n",
       "      <td>If you know what you want, you gonna get the b...</td>\n",
       "      <td>2020-03-11 01:50:49</td>\n",
       "      <td>Pho Bistro</td>\n",
       "      <td>903 Embarcadero Del Norte</td>\n",
       "      <td>Isla Vista</td>\n",
       "      <td>CA</td>\n",
       "      <td>93117</td>\n",
       "      <td>34.412934</td>\n",
       "      <td>-119.855531</td>\n",
       "      <td>3.0</td>\n",
       "      <td>184</td>\n",
       "      <td>Food, Restaurants, Chinese, Bubble Tea, Vietna...</td>\n",
       "    </tr>\n",
       "    <tr>\n",
       "      <th>2</th>\n",
       "      <td>TV-UhYeIh_O2S2lstecRwg</td>\n",
       "      <td>2odfcvFhkb8SedI3vCLpmQ</td>\n",
       "      <td>bdfZdB2MTXlT6-RBjSIpQg</td>\n",
       "      <td>5.0</td>\n",
       "      <td>I usually order the ramen and it always tastes...</td>\n",
       "      <td>2021-03-03 00:11:45</td>\n",
       "      <td>Pho Bistro</td>\n",
       "      <td>903 Embarcadero Del Norte</td>\n",
       "      <td>Isla Vista</td>\n",
       "      <td>CA</td>\n",
       "      <td>93117</td>\n",
       "      <td>34.412934</td>\n",
       "      <td>-119.855531</td>\n",
       "      <td>3.0</td>\n",
       "      <td>184</td>\n",
       "      <td>Food, Restaurants, Chinese, Bubble Tea, Vietna...</td>\n",
       "    </tr>\n",
       "    <tr>\n",
       "      <th>3</th>\n",
       "      <td>I7LEWEBUBjCANjMZZEtMxQ</td>\n",
       "      <td>OEKu0Rts0spELpbnucDKmA</td>\n",
       "      <td>bdfZdB2MTXlT6-RBjSIpQg</td>\n",
       "      <td>5.0</td>\n",
       "      <td>Amazing boba smoothies! I always go here for a...</td>\n",
       "      <td>2020-03-18 21:30:06</td>\n",
       "      <td>Pho Bistro</td>\n",
       "      <td>903 Embarcadero Del Norte</td>\n",
       "      <td>Isla Vista</td>\n",
       "      <td>CA</td>\n",
       "      <td>93117</td>\n",
       "      <td>34.412934</td>\n",
       "      <td>-119.855531</td>\n",
       "      <td>3.0</td>\n",
       "      <td>184</td>\n",
       "      <td>Food, Restaurants, Chinese, Bubble Tea, Vietna...</td>\n",
       "    </tr>\n",
       "    <tr>\n",
       "      <th>4</th>\n",
       "      <td>szLFyf8PnfPxwui9KPnRew</td>\n",
       "      <td>4MSEWnnxKhNdh7GgNHM-YQ</td>\n",
       "      <td>bdfZdB2MTXlT6-RBjSIpQg</td>\n",
       "      <td>4.0</td>\n",
       "      <td>First time I tried the food was during the sum...</td>\n",
       "      <td>2019-12-07 22:10:51</td>\n",
       "      <td>Pho Bistro</td>\n",
       "      <td>903 Embarcadero Del Norte</td>\n",
       "      <td>Isla Vista</td>\n",
       "      <td>CA</td>\n",
       "      <td>93117</td>\n",
       "      <td>34.412934</td>\n",
       "      <td>-119.855531</td>\n",
       "      <td>3.0</td>\n",
       "      <td>184</td>\n",
       "      <td>Food, Restaurants, Chinese, Bubble Tea, Vietna...</td>\n",
       "    </tr>\n",
       "  </tbody>\n",
       "</table>\n",
       "</div>"
      ],
      "text/plain": [
       "                review_id                 user_id             business_id  \\\n",
       "0  5-tLhwWjSzHYN6NyMy9Suw  IlWLPCRQp8iqX0X-ExQccQ  bdfZdB2MTXlT6-RBjSIpQg   \n",
       "1  3oJ5RgOyaOsJVVLDTGNDOA  WSMIRegvrsEgFGEraf_LwQ  bdfZdB2MTXlT6-RBjSIpQg   \n",
       "2  TV-UhYeIh_O2S2lstecRwg  2odfcvFhkb8SedI3vCLpmQ  bdfZdB2MTXlT6-RBjSIpQg   \n",
       "3  I7LEWEBUBjCANjMZZEtMxQ  OEKu0Rts0spELpbnucDKmA  bdfZdB2MTXlT6-RBjSIpQg   \n",
       "4  szLFyf8PnfPxwui9KPnRew  4MSEWnnxKhNdh7GgNHM-YQ  bdfZdB2MTXlT6-RBjSIpQg   \n",
       "\n",
       "   stars                                               text  \\\n",
       "0    4.0  The fried rice and pho are really delicious. T...   \n",
       "1    5.0  If you know what you want, you gonna get the b...   \n",
       "2    5.0  I usually order the ramen and it always tastes...   \n",
       "3    5.0  Amazing boba smoothies! I always go here for a...   \n",
       "4    4.0  First time I tried the food was during the sum...   \n",
       "\n",
       "                  date        name                    address        city  \\\n",
       "0  2020-01-26 21:21:04  Pho Bistro  903 Embarcadero Del Norte  Isla Vista   \n",
       "1  2020-03-11 01:50:49  Pho Bistro  903 Embarcadero Del Norte  Isla Vista   \n",
       "2  2021-03-03 00:11:45  Pho Bistro  903 Embarcadero Del Norte  Isla Vista   \n",
       "3  2020-03-18 21:30:06  Pho Bistro  903 Embarcadero Del Norte  Isla Vista   \n",
       "4  2019-12-07 22:10:51  Pho Bistro  903 Embarcadero Del Norte  Isla Vista   \n",
       "\n",
       "  state postal_code   latitude   longitude  avg_rating  review_count  \\\n",
       "0    CA       93117  34.412934 -119.855531         3.0           184   \n",
       "1    CA       93117  34.412934 -119.855531         3.0           184   \n",
       "2    CA       93117  34.412934 -119.855531         3.0           184   \n",
       "3    CA       93117  34.412934 -119.855531         3.0           184   \n",
       "4    CA       93117  34.412934 -119.855531         3.0           184   \n",
       "\n",
       "                                          categories  \n",
       "0  Food, Restaurants, Chinese, Bubble Tea, Vietna...  \n",
       "1  Food, Restaurants, Chinese, Bubble Tea, Vietna...  \n",
       "2  Food, Restaurants, Chinese, Bubble Tea, Vietna...  \n",
       "3  Food, Restaurants, Chinese, Bubble Tea, Vietna...  \n",
       "4  Food, Restaurants, Chinese, Bubble Tea, Vietna...  "
      ]
     },
     "execution_count": 29,
     "metadata": {},
     "output_type": "execute_result"
    }
   ],
   "source": [
    "# Drop columns that will not be used\n",
    "df_clean = df.drop(columns=['useful','funny','cool'])\n",
    "df_clean.head()"
   ]
  },
  {
   "cell_type": "code",
   "execution_count": 30,
   "metadata": {},
   "outputs": [
    {
     "name": "stdout",
     "output_type": "stream",
     "text": [
      "<class 'pandas.core.frame.DataFrame'>\n",
      "Int64Index: 37830 entries, 0 to 37829\n",
      "Data columns (total 16 columns):\n",
      " #   Column        Non-Null Count  Dtype  \n",
      "---  ------        --------------  -----  \n",
      " 0   review_id     37830 non-null  object \n",
      " 1   user_id       37830 non-null  object \n",
      " 2   business_id   37830 non-null  object \n",
      " 3   stars         37830 non-null  float64\n",
      " 4   text          37830 non-null  object \n",
      " 5   date          37830 non-null  object \n",
      " 6   name          37830 non-null  object \n",
      " 7   address       37830 non-null  object \n",
      " 8   city          37830 non-null  object \n",
      " 9   state         37830 non-null  object \n",
      " 10  postal_code   37830 non-null  object \n",
      " 11  latitude      37830 non-null  float64\n",
      " 12  longitude     37830 non-null  float64\n",
      " 13  avg_rating    37830 non-null  float64\n",
      " 14  review_count  37830 non-null  int64  \n",
      " 15  categories    37830 non-null  object \n",
      "dtypes: float64(4), int64(1), object(11)\n",
      "memory usage: 4.9+ MB\n"
     ]
    }
   ],
   "source": [
    "# lets check for null values and data types\n",
    "df_clean.info()"
   ]
  },
  {
   "attachments": {},
   "cell_type": "markdown",
   "metadata": {},
   "source": [
    "#### Planteando algunas preguntas sobre el dataset:\n",
    "- Total de restaurantes en el dataset?\n",
    "- Ciudades en las que se ubican los restaurantes?\n",
    "- Cuantos restaurantes hay por cada ciudad?\n",
    "- De que año son las reseñas/calificaciones de los usuarios?\n",
    "- Cuales son los restaurantes con mas reseñas\n",
    "- De los restaurantes con mas reseñas, cuales tienen mejor rating promedio (Top10)?\n",
    "- Categoria o tipo de comidas de los restaurantes mas populares?"
   ]
  }
 ],
 "metadata": {
  "kernelspec": {
   "display_name": "Python 3",
   "language": "python",
   "name": "python3"
  },
  "language_info": {
   "codemirror_mode": {
    "name": "ipython",
    "version": 3
   },
   "file_extension": ".py",
   "mimetype": "text/x-python",
   "name": "python",
   "nbconvert_exporter": "python",
   "pygments_lexer": "ipython3",
   "version": "3.10.1"
  },
  "orig_nbformat": 4,
  "vscode": {
   "interpreter": {
    "hash": "aee8b7b246df8f9039afb4144a1f6fd8d2ca17a180786b69acc140d282b71a49"
   }
  }
 },
 "nbformat": 4,
 "nbformat_minor": 2
}
