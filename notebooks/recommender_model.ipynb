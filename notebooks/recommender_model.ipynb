{
 "cells": [
  {
   "cell_type": "code",
   "execution_count": 1,
   "metadata": {},
   "outputs": [],
   "source": [
    "import numpy as np\n",
    "import pandas as pd\n",
    "\n",
    "from sklearn.decomposition import TruncatedSVD"
   ]
  },
  {
   "cell_type": "code",
   "execution_count": 3,
   "metadata": {},
   "outputs": [
    {
     "data": {
      "text/html": [
       "<div>\n",
       "<style scoped>\n",
       "    .dataframe tbody tr th:only-of-type {\n",
       "        vertical-align: middle;\n",
       "    }\n",
       "\n",
       "    .dataframe tbody tr th {\n",
       "        vertical-align: top;\n",
       "    }\n",
       "\n",
       "    .dataframe thead th {\n",
       "        text-align: right;\n",
       "    }\n",
       "</style>\n",
       "<table border=\"1\" class=\"dataframe\">\n",
       "  <thead>\n",
       "    <tr style=\"text-align: right;\">\n",
       "      <th></th>\n",
       "      <th>user_id</th>\n",
       "      <th>business_id</th>\n",
       "      <th>stars</th>\n",
       "      <th>name</th>\n",
       "    </tr>\n",
       "  </thead>\n",
       "  <tbody>\n",
       "    <tr>\n",
       "      <th>0</th>\n",
       "      <td>IlWLPCRQp8iqX0X-ExQccQ</td>\n",
       "      <td>bdfZdB2MTXlT6-RBjSIpQg</td>\n",
       "      <td>4.0</td>\n",
       "      <td>Pho Bistro</td>\n",
       "    </tr>\n",
       "    <tr>\n",
       "      <th>1</th>\n",
       "      <td>WSMIRegvrsEgFGEraf_LwQ</td>\n",
       "      <td>bdfZdB2MTXlT6-RBjSIpQg</td>\n",
       "      <td>5.0</td>\n",
       "      <td>Pho Bistro</td>\n",
       "    </tr>\n",
       "    <tr>\n",
       "      <th>2</th>\n",
       "      <td>2odfcvFhkb8SedI3vCLpmQ</td>\n",
       "      <td>bdfZdB2MTXlT6-RBjSIpQg</td>\n",
       "      <td>5.0</td>\n",
       "      <td>Pho Bistro</td>\n",
       "    </tr>\n",
       "    <tr>\n",
       "      <th>3</th>\n",
       "      <td>OEKu0Rts0spELpbnucDKmA</td>\n",
       "      <td>bdfZdB2MTXlT6-RBjSIpQg</td>\n",
       "      <td>5.0</td>\n",
       "      <td>Pho Bistro</td>\n",
       "    </tr>\n",
       "    <tr>\n",
       "      <th>4</th>\n",
       "      <td>4MSEWnnxKhNdh7GgNHM-YQ</td>\n",
       "      <td>bdfZdB2MTXlT6-RBjSIpQg</td>\n",
       "      <td>4.0</td>\n",
       "      <td>Pho Bistro</td>\n",
       "    </tr>\n",
       "  </tbody>\n",
       "</table>\n",
       "</div>"
      ],
      "text/plain": [
       "                  user_id             business_id  stars        name\n",
       "0  IlWLPCRQp8iqX0X-ExQccQ  bdfZdB2MTXlT6-RBjSIpQg    4.0  Pho Bistro\n",
       "1  WSMIRegvrsEgFGEraf_LwQ  bdfZdB2MTXlT6-RBjSIpQg    5.0  Pho Bistro\n",
       "2  2odfcvFhkb8SedI3vCLpmQ  bdfZdB2MTXlT6-RBjSIpQg    5.0  Pho Bistro\n",
       "3  OEKu0Rts0spELpbnucDKmA  bdfZdB2MTXlT6-RBjSIpQg    5.0  Pho Bistro\n",
       "4  4MSEWnnxKhNdh7GgNHM-YQ  bdfZdB2MTXlT6-RBjSIpQg    4.0  Pho Bistro"
      ]
     },
     "execution_count": 3,
     "metadata": {},
     "output_type": "execute_result"
    }
   ],
   "source": [
    "df_recsys = pd.read_csv('./../data/sb_restaurants_clean.csv', index_col=0)\n",
    "df_recsys.head(5)"
   ]
  },
  {
   "cell_type": "code",
   "execution_count": 4,
   "metadata": {},
   "outputs": [
    {
     "data": {
      "text/plain": [
       "(37830, 4)"
      ]
     },
     "execution_count": 4,
     "metadata": {},
     "output_type": "execute_result"
    }
   ],
   "source": [
    "df_recsys.shape "
   ]
  },
  {
   "attachments": {},
   "cell_type": "markdown",
   "metadata": {},
   "source": [
    "Iniciamos por elegir a algun usuario aleatorio y vemos qué restaurantes ha calificado"
   ]
  },
  {
   "cell_type": "code",
   "execution_count": 5,
   "metadata": {},
   "outputs": [
    {
     "name": "stdout",
     "output_type": "stream",
     "text": [
      "Total de restaurantes calificados por el usuario:  5\n"
     ]
    },
    {
     "data": {
      "text/html": [
       "<div>\n",
       "<style scoped>\n",
       "    .dataframe tbody tr th:only-of-type {\n",
       "        vertical-align: middle;\n",
       "    }\n",
       "\n",
       "    .dataframe tbody tr th {\n",
       "        vertical-align: top;\n",
       "    }\n",
       "\n",
       "    .dataframe thead th {\n",
       "        text-align: right;\n",
       "    }\n",
       "</style>\n",
       "<table border=\"1\" class=\"dataframe\">\n",
       "  <thead>\n",
       "    <tr style=\"text-align: right;\">\n",
       "      <th></th>\n",
       "      <th>user_id</th>\n",
       "      <th>business_id</th>\n",
       "      <th>stars</th>\n",
       "      <th>name</th>\n",
       "    </tr>\n",
       "  </thead>\n",
       "  <tbody>\n",
       "    <tr>\n",
       "      <th>4</th>\n",
       "      <td>4MSEWnnxKhNdh7GgNHM-YQ</td>\n",
       "      <td>bdfZdB2MTXlT6-RBjSIpQg</td>\n",
       "      <td>4.0</td>\n",
       "      <td>Pho Bistro</td>\n",
       "    </tr>\n",
       "    <tr>\n",
       "      <th>1586</th>\n",
       "      <td>4MSEWnnxKhNdh7GgNHM-YQ</td>\n",
       "      <td>ju4YP8SLdR_BmWr_-Xh83Q</td>\n",
       "      <td>3.0</td>\n",
       "      <td>Phamous Cafe</td>\n",
       "    </tr>\n",
       "    <tr>\n",
       "      <th>10500</th>\n",
       "      <td>4MSEWnnxKhNdh7GgNHM-YQ</td>\n",
       "      <td>zJpZ-uQ_F0XVgK1u98uWSg</td>\n",
       "      <td>5.0</td>\n",
       "      <td>Gloria's Gourmet Kitchen</td>\n",
       "    </tr>\n",
       "    <tr>\n",
       "      <th>25128</th>\n",
       "      <td>4MSEWnnxKhNdh7GgNHM-YQ</td>\n",
       "      <td>IoAubn7CpU2rqcURxUo1MA</td>\n",
       "      <td>4.0</td>\n",
       "      <td>Barb's Pies</td>\n",
       "    </tr>\n",
       "    <tr>\n",
       "      <th>34522</th>\n",
       "      <td>4MSEWnnxKhNdh7GgNHM-YQ</td>\n",
       "      <td>yM7eA2uuH3Ch7OYVj3PKSw</td>\n",
       "      <td>5.0</td>\n",
       "      <td>Wabi Sabi</td>\n",
       "    </tr>\n",
       "  </tbody>\n",
       "</table>\n",
       "</div>"
      ],
      "text/plain": [
       "                      user_id             business_id  stars  \\\n",
       "4      4MSEWnnxKhNdh7GgNHM-YQ  bdfZdB2MTXlT6-RBjSIpQg    4.0   \n",
       "1586   4MSEWnnxKhNdh7GgNHM-YQ  ju4YP8SLdR_BmWr_-Xh83Q    3.0   \n",
       "10500  4MSEWnnxKhNdh7GgNHM-YQ  zJpZ-uQ_F0XVgK1u98uWSg    5.0   \n",
       "25128  4MSEWnnxKhNdh7GgNHM-YQ  IoAubn7CpU2rqcURxUo1MA    4.0   \n",
       "34522  4MSEWnnxKhNdh7GgNHM-YQ  yM7eA2uuH3Ch7OYVj3PKSw    5.0   \n",
       "\n",
       "                           name  \n",
       "4                    Pho Bistro  \n",
       "1586               Phamous Cafe  \n",
       "10500  Gloria's Gourmet Kitchen  \n",
       "25128               Barb's Pies  \n",
       "34522                 Wabi Sabi  "
      ]
     },
     "execution_count": 5,
     "metadata": {},
     "output_type": "execute_result"
    }
   ],
   "source": [
    "# Choose a random user\n",
    "idx = (df_recsys['user_id']== '4MSEWnnxKhNdh7GgNHM-YQ')\n",
    "\n",
    "# print user's reviews\n",
    "print('Total de restaurantes calificados por el usuario: ',idx.sum())\n",
    "df_recsys[idx]"
   ]
  },
  {
   "attachments": {},
   "cell_type": "markdown",
   "metadata": {},
   "source": [
    "Ahora generamos una matriz de utilidad, la cual nos proporciona la calificación que cada usuario le da a cada restaurante que ha visitado."
   ]
  },
  {
   "cell_type": "code",
   "execution_count": 64,
   "metadata": {},
   "outputs": [
    {
     "data": {
      "text/html": [
       "<div>\n",
       "<style scoped>\n",
       "    .dataframe tbody tr th:only-of-type {\n",
       "        vertical-align: middle;\n",
       "    }\n",
       "\n",
       "    .dataframe tbody tr th {\n",
       "        vertical-align: top;\n",
       "    }\n",
       "\n",
       "    .dataframe thead th {\n",
       "        text-align: right;\n",
       "    }\n",
       "</style>\n",
       "<table border=\"1\" class=\"dataframe\">\n",
       "  <thead>\n",
       "    <tr style=\"text-align: right;\">\n",
       "      <th>name</th>\n",
       "      <th>101 Deli</th>\n",
       "      <th>1114 Sports Bar &amp; Games</th>\n",
       "      <th>4 Eggs &amp; Pizza</th>\n",
       "      <th>A Slice of Woodstock's</th>\n",
       "      <th>AH Juice Organics</th>\n",
       "      <th>AR Catering</th>\n",
       "      <th>ASIE</th>\n",
       "      <th>Aksum Restaurant</th>\n",
       "      <th>Aladdin Cafe</th>\n",
       "      <th>Alcazar Tapas Bar</th>\n",
       "      <th>...</th>\n",
       "      <th>Yona Redz</th>\n",
       "      <th>Your Choice</th>\n",
       "      <th>Your Place Thai Restaurant</th>\n",
       "      <th>Yume Sushi Japanese Restaurant</th>\n",
       "      <th>Z's - Taphouse &amp; Grill</th>\n",
       "      <th>Zaytoon</th>\n",
       "      <th>Zen Yai Thai Cuisine</th>\n",
       "      <th>Zizzo's Coffeehouse</th>\n",
       "      <th>Zodo's Bowlero Bowling &amp; Beyond</th>\n",
       "      <th>Zookers Cafe</th>\n",
       "    </tr>\n",
       "    <tr>\n",
       "      <th>user_id</th>\n",
       "      <th></th>\n",
       "      <th></th>\n",
       "      <th></th>\n",
       "      <th></th>\n",
       "      <th></th>\n",
       "      <th></th>\n",
       "      <th></th>\n",
       "      <th></th>\n",
       "      <th></th>\n",
       "      <th></th>\n",
       "      <th></th>\n",
       "      <th></th>\n",
       "      <th></th>\n",
       "      <th></th>\n",
       "      <th></th>\n",
       "      <th></th>\n",
       "      <th></th>\n",
       "      <th></th>\n",
       "      <th></th>\n",
       "      <th></th>\n",
       "      <th></th>\n",
       "    </tr>\n",
       "  </thead>\n",
       "  <tbody>\n",
       "    <tr>\n",
       "      <th>---zemaUC8WeJeWKqS6p9Q</th>\n",
       "      <td>0</td>\n",
       "      <td>0</td>\n",
       "      <td>0</td>\n",
       "      <td>0</td>\n",
       "      <td>0</td>\n",
       "      <td>0</td>\n",
       "      <td>0</td>\n",
       "      <td>0</td>\n",
       "      <td>0</td>\n",
       "      <td>0</td>\n",
       "      <td>...</td>\n",
       "      <td>0</td>\n",
       "      <td>0</td>\n",
       "      <td>0</td>\n",
       "      <td>0</td>\n",
       "      <td>0</td>\n",
       "      <td>0</td>\n",
       "      <td>0.0</td>\n",
       "      <td>0</td>\n",
       "      <td>0</td>\n",
       "      <td>0</td>\n",
       "    </tr>\n",
       "    <tr>\n",
       "      <th>--2F5G5LKt3h2cAXJbZptg</th>\n",
       "      <td>0</td>\n",
       "      <td>0</td>\n",
       "      <td>0</td>\n",
       "      <td>0</td>\n",
       "      <td>0</td>\n",
       "      <td>0</td>\n",
       "      <td>0</td>\n",
       "      <td>0</td>\n",
       "      <td>0</td>\n",
       "      <td>0</td>\n",
       "      <td>...</td>\n",
       "      <td>0</td>\n",
       "      <td>0</td>\n",
       "      <td>0</td>\n",
       "      <td>0</td>\n",
       "      <td>0</td>\n",
       "      <td>0</td>\n",
       "      <td>0.0</td>\n",
       "      <td>0</td>\n",
       "      <td>0</td>\n",
       "      <td>0</td>\n",
       "    </tr>\n",
       "    <tr>\n",
       "      <th>--7XOV5T9yZR5w1DIy_Dog</th>\n",
       "      <td>0</td>\n",
       "      <td>0</td>\n",
       "      <td>0</td>\n",
       "      <td>0</td>\n",
       "      <td>0</td>\n",
       "      <td>0</td>\n",
       "      <td>0</td>\n",
       "      <td>0</td>\n",
       "      <td>0</td>\n",
       "      <td>0</td>\n",
       "      <td>...</td>\n",
       "      <td>0</td>\n",
       "      <td>0</td>\n",
       "      <td>0</td>\n",
       "      <td>0</td>\n",
       "      <td>0</td>\n",
       "      <td>0</td>\n",
       "      <td>0.0</td>\n",
       "      <td>0</td>\n",
       "      <td>0</td>\n",
       "      <td>0</td>\n",
       "    </tr>\n",
       "    <tr>\n",
       "      <th>--8YG4BoOWFGjdh9Fxop-w</th>\n",
       "      <td>0</td>\n",
       "      <td>0</td>\n",
       "      <td>0</td>\n",
       "      <td>0</td>\n",
       "      <td>0</td>\n",
       "      <td>0</td>\n",
       "      <td>0</td>\n",
       "      <td>0</td>\n",
       "      <td>0</td>\n",
       "      <td>0</td>\n",
       "      <td>...</td>\n",
       "      <td>0</td>\n",
       "      <td>0</td>\n",
       "      <td>0</td>\n",
       "      <td>0</td>\n",
       "      <td>0</td>\n",
       "      <td>0</td>\n",
       "      <td>0.0</td>\n",
       "      <td>0</td>\n",
       "      <td>0</td>\n",
       "      <td>0</td>\n",
       "    </tr>\n",
       "    <tr>\n",
       "      <th>--_QWYpJ2In2IgW_bouSuQ</th>\n",
       "      <td>0</td>\n",
       "      <td>0</td>\n",
       "      <td>0</td>\n",
       "      <td>0</td>\n",
       "      <td>0</td>\n",
       "      <td>0</td>\n",
       "      <td>0</td>\n",
       "      <td>0</td>\n",
       "      <td>0</td>\n",
       "      <td>0</td>\n",
       "      <td>...</td>\n",
       "      <td>0</td>\n",
       "      <td>0</td>\n",
       "      <td>0</td>\n",
       "      <td>0</td>\n",
       "      <td>0</td>\n",
       "      <td>0</td>\n",
       "      <td>0.0</td>\n",
       "      <td>0</td>\n",
       "      <td>0</td>\n",
       "      <td>0</td>\n",
       "    </tr>\n",
       "  </tbody>\n",
       "</table>\n",
       "<p>5 rows × 659 columns</p>\n",
       "</div>"
      ],
      "text/plain": [
       "name                    101 Deli  1114 Sports Bar & Games  4 Eggs & Pizza  \\\n",
       "user_id                                                                     \n",
       "---zemaUC8WeJeWKqS6p9Q         0                        0               0   \n",
       "--2F5G5LKt3h2cAXJbZptg         0                        0               0   \n",
       "--7XOV5T9yZR5w1DIy_Dog         0                        0               0   \n",
       "--8YG4BoOWFGjdh9Fxop-w         0                        0               0   \n",
       "--_QWYpJ2In2IgW_bouSuQ         0                        0               0   \n",
       "\n",
       "name                    A Slice of Woodstock's  AH Juice Organics  \\\n",
       "user_id                                                             \n",
       "---zemaUC8WeJeWKqS6p9Q                       0                  0   \n",
       "--2F5G5LKt3h2cAXJbZptg                       0                  0   \n",
       "--7XOV5T9yZR5w1DIy_Dog                       0                  0   \n",
       "--8YG4BoOWFGjdh9Fxop-w                       0                  0   \n",
       "--_QWYpJ2In2IgW_bouSuQ                       0                  0   \n",
       "\n",
       "name                    AR Catering  ASIE  Aksum Restaurant  Aladdin Cafe  \\\n",
       "user_id                                                                     \n",
       "---zemaUC8WeJeWKqS6p9Q            0     0                 0             0   \n",
       "--2F5G5LKt3h2cAXJbZptg            0     0                 0             0   \n",
       "--7XOV5T9yZR5w1DIy_Dog            0     0                 0             0   \n",
       "--8YG4BoOWFGjdh9Fxop-w            0     0                 0             0   \n",
       "--_QWYpJ2In2IgW_bouSuQ            0     0                 0             0   \n",
       "\n",
       "name                    Alcazar Tapas Bar  ...  Yona Redz  Your Choice  \\\n",
       "user_id                                    ...                           \n",
       "---zemaUC8WeJeWKqS6p9Q                  0  ...          0            0   \n",
       "--2F5G5LKt3h2cAXJbZptg                  0  ...          0            0   \n",
       "--7XOV5T9yZR5w1DIy_Dog                  0  ...          0            0   \n",
       "--8YG4BoOWFGjdh9Fxop-w                  0  ...          0            0   \n",
       "--_QWYpJ2In2IgW_bouSuQ                  0  ...          0            0   \n",
       "\n",
       "name                    Your Place Thai Restaurant  \\\n",
       "user_id                                              \n",
       "---zemaUC8WeJeWKqS6p9Q                           0   \n",
       "--2F5G5LKt3h2cAXJbZptg                           0   \n",
       "--7XOV5T9yZR5w1DIy_Dog                           0   \n",
       "--8YG4BoOWFGjdh9Fxop-w                           0   \n",
       "--_QWYpJ2In2IgW_bouSuQ                           0   \n",
       "\n",
       "name                    Yume Sushi Japanese Restaurant  \\\n",
       "user_id                                                  \n",
       "---zemaUC8WeJeWKqS6p9Q                               0   \n",
       "--2F5G5LKt3h2cAXJbZptg                               0   \n",
       "--7XOV5T9yZR5w1DIy_Dog                               0   \n",
       "--8YG4BoOWFGjdh9Fxop-w                               0   \n",
       "--_QWYpJ2In2IgW_bouSuQ                               0   \n",
       "\n",
       "name                    Z's - Taphouse & Grill  Zaytoon  Zen Yai Thai Cuisine  \\\n",
       "user_id                                                                         \n",
       "---zemaUC8WeJeWKqS6p9Q                       0        0                   0.0   \n",
       "--2F5G5LKt3h2cAXJbZptg                       0        0                   0.0   \n",
       "--7XOV5T9yZR5w1DIy_Dog                       0        0                   0.0   \n",
       "--8YG4BoOWFGjdh9Fxop-w                       0        0                   0.0   \n",
       "--_QWYpJ2In2IgW_bouSuQ                       0        0                   0.0   \n",
       "\n",
       "name                    Zizzo's Coffeehouse  Zodo's Bowlero Bowling & Beyond  \\\n",
       "user_id                                                                        \n",
       "---zemaUC8WeJeWKqS6p9Q                    0                                0   \n",
       "--2F5G5LKt3h2cAXJbZptg                    0                                0   \n",
       "--7XOV5T9yZR5w1DIy_Dog                    0                                0   \n",
       "--8YG4BoOWFGjdh9Fxop-w                    0                                0   \n",
       "--_QWYpJ2In2IgW_bouSuQ                    0                                0   \n",
       "\n",
       "name                    Zookers Cafe  \n",
       "user_id                               \n",
       "---zemaUC8WeJeWKqS6p9Q             0  \n",
       "--2F5G5LKt3h2cAXJbZptg             0  \n",
       "--7XOV5T9yZR5w1DIy_Dog             0  \n",
       "--8YG4BoOWFGjdh9Fxop-w             0  \n",
       "--_QWYpJ2In2IgW_bouSuQ             0  \n",
       "\n",
       "[5 rows x 659 columns]"
      ]
     },
     "execution_count": 64,
     "metadata": {},
     "output_type": "execute_result"
    }
   ],
   "source": [
    "# Create a utility matrix\n",
    "UtlMtrx = df_recsys.pivot_table(values='stars', index='user_id', columns='name', fill_value=0)\n",
    "\n",
    "UtlMtrx.head() "
   ]
  },
  {
   "attachments": {},
   "cell_type": "markdown",
   "metadata": {},
   "source": [
    "- Observamos que una gran cantidad de valores en la matriz son 0. De los 659 restaurantes es de esperarse que los usuarios solo han evaluado unos cuantos, por eso la gran cantidad de 0´s. \n",
    "- En álgebra lineal este tipo de matriz se le conoce como matriz dispersa (sparse matrix)."
   ]
  },
  {
   "cell_type": "code",
   "execution_count": 7,
   "metadata": {},
   "outputs": [
    {
     "name": "stdout",
     "output_type": "stream",
     "text": [
      "Total de elementos de la matriz de utilidad: 15465412\n",
      "Total de elementos diferentes de cero: 37166\n",
      "Porcentaje de elementos diferentes de cero: 0.2%\n"
     ]
    }
   ],
   "source": [
    "print('Total de elementos de la matriz de utilidad: %d' % (UtlMtrx.size))\n",
    "print('Total de elementos diferentes de cero: %d' % (np.count_nonzero(UtlMtrx)))\n",
    "print('Porcentaje de elementos diferentes de cero: %.1f%%' % (100 * np.count_nonzero(UtlMtrx) / UtlMtrx.size))"
   ]
  },
  {
   "attachments": {},
   "cell_type": "markdown",
   "metadata": {},
   "source": [
    "Construiremos el sistema de recomendación utilizando el metódo de reducción de dimensionalidad SVD (Singular Value Decomposition) o Descomposicion de Valores Singulares. \n",
    "\n",
    "Este tipo de solución es utilizado comunmente como un primer sistema de recomendación, basado en las calificaciones que los usuarios han asignado en el pasado."
   ]
  },
  {
   "attachments": {},
   "cell_type": "markdown",
   "metadata": {},
   "source": [
    "Para obtener la información relacionada con los restaurantes, tomamos la transpuesta de la matriz de utilidad."
   ]
  },
  {
   "cell_type": "code",
   "execution_count": 8,
   "metadata": {},
   "outputs": [
    {
     "data": {
      "text/plain": [
       "(659, 23468)"
      ]
     },
     "execution_count": 8,
     "metadata": {},
     "output_type": "execute_result"
    }
   ],
   "source": [
    "# Transpose the utility matrix\n",
    "X = UtlMtrx.T\n",
    "X.shape"
   ]
  },
  {
   "cell_type": "code",
   "execution_count": 65,
   "metadata": {},
   "outputs": [
    {
     "data": {
      "text/html": [
       "<div>\n",
       "<style scoped>\n",
       "    .dataframe tbody tr th:only-of-type {\n",
       "        vertical-align: middle;\n",
       "    }\n",
       "\n",
       "    .dataframe tbody tr th {\n",
       "        vertical-align: top;\n",
       "    }\n",
       "\n",
       "    .dataframe thead th {\n",
       "        text-align: right;\n",
       "    }\n",
       "</style>\n",
       "<table border=\"1\" class=\"dataframe\">\n",
       "  <thead>\n",
       "    <tr style=\"text-align: right;\">\n",
       "      <th>user_id</th>\n",
       "      <th>---zemaUC8WeJeWKqS6p9Q</th>\n",
       "      <th>--2F5G5LKt3h2cAXJbZptg</th>\n",
       "      <th>--7XOV5T9yZR5w1DIy_Dog</th>\n",
       "      <th>--8YG4BoOWFGjdh9Fxop-w</th>\n",
       "      <th>--_QWYpJ2In2IgW_bouSuQ</th>\n",
       "      <th>--kinfHwmtdjz03g8B8z8Q</th>\n",
       "      <th>-0-Cbo-4YzKmoJXpnckwbg</th>\n",
       "      <th>-0-TtVhV4PIUoDpUCOC0uQ</th>\n",
       "      <th>-06H6BQ5cS5A5Jpd_iiwCA</th>\n",
       "      <th>-09MjuD1Q0KwSYwdYbAzMw</th>\n",
       "      <th>...</th>\n",
       "      <th>zyP0-AxYAb61wVroBgR0ng</th>\n",
       "      <th>zyQcIz_DR9CM-Tah3B7Tfw</th>\n",
       "      <th>zyWX5BNC9JhEsrrzaK-X9g</th>\n",
       "      <th>zyakHeX-9wVqU33jn6NMtA</th>\n",
       "      <th>zym3VpXHS4YWRMXUJ-MxsQ</th>\n",
       "      <th>zyvAj-SNHqHnrTN0X5_adA</th>\n",
       "      <th>zyzSePGcKiiA15e1takl4g</th>\n",
       "      <th>zzkJpm2B4PNPHnXg-CMyog</th>\n",
       "      <th>zzudZ50i88aStmQ6Ft1cVA</th>\n",
       "      <th>zzzGgfvrSJ4AQeKtcgocIw</th>\n",
       "    </tr>\n",
       "    <tr>\n",
       "      <th>name</th>\n",
       "      <th></th>\n",
       "      <th></th>\n",
       "      <th></th>\n",
       "      <th></th>\n",
       "      <th></th>\n",
       "      <th></th>\n",
       "      <th></th>\n",
       "      <th></th>\n",
       "      <th></th>\n",
       "      <th></th>\n",
       "      <th></th>\n",
       "      <th></th>\n",
       "      <th></th>\n",
       "      <th></th>\n",
       "      <th></th>\n",
       "      <th></th>\n",
       "      <th></th>\n",
       "      <th></th>\n",
       "      <th></th>\n",
       "      <th></th>\n",
       "      <th></th>\n",
       "    </tr>\n",
       "  </thead>\n",
       "  <tbody>\n",
       "    <tr>\n",
       "      <th>101 Deli</th>\n",
       "      <td>0.0</td>\n",
       "      <td>0.0</td>\n",
       "      <td>0.0</td>\n",
       "      <td>0.0</td>\n",
       "      <td>0.0</td>\n",
       "      <td>0.0</td>\n",
       "      <td>0.0</td>\n",
       "      <td>0.0</td>\n",
       "      <td>0.0</td>\n",
       "      <td>0.0</td>\n",
       "      <td>...</td>\n",
       "      <td>0.0</td>\n",
       "      <td>0.0</td>\n",
       "      <td>0.0</td>\n",
       "      <td>0.0</td>\n",
       "      <td>0.0</td>\n",
       "      <td>0.0</td>\n",
       "      <td>0.0</td>\n",
       "      <td>0.0</td>\n",
       "      <td>0.0</td>\n",
       "      <td>0.0</td>\n",
       "    </tr>\n",
       "    <tr>\n",
       "      <th>1114 Sports Bar &amp; Games</th>\n",
       "      <td>0.0</td>\n",
       "      <td>0.0</td>\n",
       "      <td>0.0</td>\n",
       "      <td>0.0</td>\n",
       "      <td>0.0</td>\n",
       "      <td>0.0</td>\n",
       "      <td>0.0</td>\n",
       "      <td>0.0</td>\n",
       "      <td>0.0</td>\n",
       "      <td>0.0</td>\n",
       "      <td>...</td>\n",
       "      <td>0.0</td>\n",
       "      <td>0.0</td>\n",
       "      <td>0.0</td>\n",
       "      <td>0.0</td>\n",
       "      <td>0.0</td>\n",
       "      <td>0.0</td>\n",
       "      <td>0.0</td>\n",
       "      <td>0.0</td>\n",
       "      <td>0.0</td>\n",
       "      <td>0.0</td>\n",
       "    </tr>\n",
       "    <tr>\n",
       "      <th>4 Eggs &amp; Pizza</th>\n",
       "      <td>0.0</td>\n",
       "      <td>0.0</td>\n",
       "      <td>0.0</td>\n",
       "      <td>0.0</td>\n",
       "      <td>0.0</td>\n",
       "      <td>0.0</td>\n",
       "      <td>0.0</td>\n",
       "      <td>0.0</td>\n",
       "      <td>0.0</td>\n",
       "      <td>0.0</td>\n",
       "      <td>...</td>\n",
       "      <td>0.0</td>\n",
       "      <td>0.0</td>\n",
       "      <td>0.0</td>\n",
       "      <td>0.0</td>\n",
       "      <td>0.0</td>\n",
       "      <td>0.0</td>\n",
       "      <td>0.0</td>\n",
       "      <td>0.0</td>\n",
       "      <td>0.0</td>\n",
       "      <td>0.0</td>\n",
       "    </tr>\n",
       "    <tr>\n",
       "      <th>A Slice of Woodstock's</th>\n",
       "      <td>0.0</td>\n",
       "      <td>0.0</td>\n",
       "      <td>0.0</td>\n",
       "      <td>0.0</td>\n",
       "      <td>0.0</td>\n",
       "      <td>0.0</td>\n",
       "      <td>0.0</td>\n",
       "      <td>0.0</td>\n",
       "      <td>0.0</td>\n",
       "      <td>0.0</td>\n",
       "      <td>...</td>\n",
       "      <td>0.0</td>\n",
       "      <td>0.0</td>\n",
       "      <td>0.0</td>\n",
       "      <td>0.0</td>\n",
       "      <td>0.0</td>\n",
       "      <td>0.0</td>\n",
       "      <td>0.0</td>\n",
       "      <td>0.0</td>\n",
       "      <td>0.0</td>\n",
       "      <td>0.0</td>\n",
       "    </tr>\n",
       "    <tr>\n",
       "      <th>AH Juice Organics</th>\n",
       "      <td>0.0</td>\n",
       "      <td>0.0</td>\n",
       "      <td>0.0</td>\n",
       "      <td>0.0</td>\n",
       "      <td>0.0</td>\n",
       "      <td>0.0</td>\n",
       "      <td>0.0</td>\n",
       "      <td>0.0</td>\n",
       "      <td>0.0</td>\n",
       "      <td>0.0</td>\n",
       "      <td>...</td>\n",
       "      <td>0.0</td>\n",
       "      <td>0.0</td>\n",
       "      <td>0.0</td>\n",
       "      <td>0.0</td>\n",
       "      <td>0.0</td>\n",
       "      <td>0.0</td>\n",
       "      <td>0.0</td>\n",
       "      <td>0.0</td>\n",
       "      <td>0.0</td>\n",
       "      <td>0.0</td>\n",
       "    </tr>\n",
       "  </tbody>\n",
       "</table>\n",
       "<p>5 rows × 23468 columns</p>\n",
       "</div>"
      ],
      "text/plain": [
       "user_id                  ---zemaUC8WeJeWKqS6p9Q  --2F5G5LKt3h2cAXJbZptg  \\\n",
       "name                                                                      \n",
       "101 Deli                                    0.0                     0.0   \n",
       "1114 Sports Bar & Games                     0.0                     0.0   \n",
       "4 Eggs & Pizza                              0.0                     0.0   \n",
       "A Slice of Woodstock's                      0.0                     0.0   \n",
       "AH Juice Organics                           0.0                     0.0   \n",
       "\n",
       "user_id                  --7XOV5T9yZR5w1DIy_Dog  --8YG4BoOWFGjdh9Fxop-w  \\\n",
       "name                                                                      \n",
       "101 Deli                                    0.0                     0.0   \n",
       "1114 Sports Bar & Games                     0.0                     0.0   \n",
       "4 Eggs & Pizza                              0.0                     0.0   \n",
       "A Slice of Woodstock's                      0.0                     0.0   \n",
       "AH Juice Organics                           0.0                     0.0   \n",
       "\n",
       "user_id                  --_QWYpJ2In2IgW_bouSuQ  --kinfHwmtdjz03g8B8z8Q  \\\n",
       "name                                                                      \n",
       "101 Deli                                    0.0                     0.0   \n",
       "1114 Sports Bar & Games                     0.0                     0.0   \n",
       "4 Eggs & Pizza                              0.0                     0.0   \n",
       "A Slice of Woodstock's                      0.0                     0.0   \n",
       "AH Juice Organics                           0.0                     0.0   \n",
       "\n",
       "user_id                  -0-Cbo-4YzKmoJXpnckwbg  -0-TtVhV4PIUoDpUCOC0uQ  \\\n",
       "name                                                                      \n",
       "101 Deli                                    0.0                     0.0   \n",
       "1114 Sports Bar & Games                     0.0                     0.0   \n",
       "4 Eggs & Pizza                              0.0                     0.0   \n",
       "A Slice of Woodstock's                      0.0                     0.0   \n",
       "AH Juice Organics                           0.0                     0.0   \n",
       "\n",
       "user_id                  -06H6BQ5cS5A5Jpd_iiwCA  -09MjuD1Q0KwSYwdYbAzMw  ...  \\\n",
       "name                                                                     ...   \n",
       "101 Deli                                    0.0                     0.0  ...   \n",
       "1114 Sports Bar & Games                     0.0                     0.0  ...   \n",
       "4 Eggs & Pizza                              0.0                     0.0  ...   \n",
       "A Slice of Woodstock's                      0.0                     0.0  ...   \n",
       "AH Juice Organics                           0.0                     0.0  ...   \n",
       "\n",
       "user_id                  zyP0-AxYAb61wVroBgR0ng  zyQcIz_DR9CM-Tah3B7Tfw  \\\n",
       "name                                                                      \n",
       "101 Deli                                    0.0                     0.0   \n",
       "1114 Sports Bar & Games                     0.0                     0.0   \n",
       "4 Eggs & Pizza                              0.0                     0.0   \n",
       "A Slice of Woodstock's                      0.0                     0.0   \n",
       "AH Juice Organics                           0.0                     0.0   \n",
       "\n",
       "user_id                  zyWX5BNC9JhEsrrzaK-X9g  zyakHeX-9wVqU33jn6NMtA  \\\n",
       "name                                                                      \n",
       "101 Deli                                    0.0                     0.0   \n",
       "1114 Sports Bar & Games                     0.0                     0.0   \n",
       "4 Eggs & Pizza                              0.0                     0.0   \n",
       "A Slice of Woodstock's                      0.0                     0.0   \n",
       "AH Juice Organics                           0.0                     0.0   \n",
       "\n",
       "user_id                  zym3VpXHS4YWRMXUJ-MxsQ  zyvAj-SNHqHnrTN0X5_adA  \\\n",
       "name                                                                      \n",
       "101 Deli                                    0.0                     0.0   \n",
       "1114 Sports Bar & Games                     0.0                     0.0   \n",
       "4 Eggs & Pizza                              0.0                     0.0   \n",
       "A Slice of Woodstock's                      0.0                     0.0   \n",
       "AH Juice Organics                           0.0                     0.0   \n",
       "\n",
       "user_id                  zyzSePGcKiiA15e1takl4g  zzkJpm2B4PNPHnXg-CMyog  \\\n",
       "name                                                                      \n",
       "101 Deli                                    0.0                     0.0   \n",
       "1114 Sports Bar & Games                     0.0                     0.0   \n",
       "4 Eggs & Pizza                              0.0                     0.0   \n",
       "A Slice of Woodstock's                      0.0                     0.0   \n",
       "AH Juice Organics                           0.0                     0.0   \n",
       "\n",
       "user_id                  zzudZ50i88aStmQ6Ft1cVA  zzzGgfvrSJ4AQeKtcgocIw  \n",
       "name                                                                     \n",
       "101 Deli                                    0.0                     0.0  \n",
       "1114 Sports Bar & Games                     0.0                     0.0  \n",
       "4 Eggs & Pizza                              0.0                     0.0  \n",
       "A Slice of Woodstock's                      0.0                     0.0  \n",
       "AH Juice Organics                           0.0                     0.0  \n",
       "\n",
       "[5 rows x 23468 columns]"
      ]
     },
     "execution_count": 65,
     "metadata": {},
     "output_type": "execute_result"
    }
   ],
   "source": [
    "X.head()"
   ]
  },
  {
   "cell_type": "code",
   "execution_count": 9,
   "metadata": {},
   "outputs": [
    {
     "name": "stdout",
     "output_type": "stream",
     "text": [
      "Cantidad de información simplificada con los primeros 7 vectores singulares:\n",
      "95.8%\n"
     ]
    }
   ],
   "source": [
    "SVD = TruncatedSVD(n_components=658, random_state=42)  \n",
    "SVD.fit(X)\n",
    "\n",
    "num_sv = 7\n",
    "\n",
    "print('Cantidad de información simplificada con los primeros %d vectores singulares:' % num_sv)\n",
    "print('%.1f%%' %  (100 * (1- (SVD.singular_values_[0:num_sv]).sum() / (SVD.singular_values_).sum())))"
   ]
  },
  {
   "attachments": {},
   "cell_type": "markdown",
   "metadata": {},
   "source": [
    "### "
   ]
  },
  {
   "cell_type": "code",
   "execution_count": 10,
   "metadata": {},
   "outputs": [
    {
     "data": {
      "text/plain": [
       "(659, 7)"
      ]
     },
     "execution_count": 10,
     "metadata": {},
     "output_type": "execute_result"
    }
   ],
   "source": [
    "num_sv = 7\n",
    "\n",
    "SVD = TruncatedSVD(n_components=num_sv, random_state=42)\n",
    "\n",
    "resultant_matrix = SVD.fit_transform(X)\n",
    "resultant_matrix.shape"
   ]
  },
  {
   "cell_type": "code",
   "execution_count": 28,
   "metadata": {},
   "outputs": [
    {
     "data": {
      "text/plain": [
       "array([[1.        , 0.40414244, 0.2721704 , 0.59065268, 0.38875077],\n",
       "       [0.40414244, 1.        , 0.98296528, 0.24337884, 0.96173764],\n",
       "       [0.2721704 , 0.98296528, 1.        , 0.12296692, 0.93044831],\n",
       "       [0.59065268, 0.24337884, 0.12296692, 1.        , 0.43032776],\n",
       "       [0.38875077, 0.96173764, 0.93044831, 0.43032776, 1.        ]])"
      ]
     },
     "execution_count": 28,
     "metadata": {},
     "output_type": "execute_result"
    }
   ],
   "source": [
    "# Pearson correlation matrix\n",
    "corrMtx = np.corrcoef(resultant_matrix)\n",
    "corrMtx.shape  \n",
    "corrMtx[0:5,0:5]\n"
   ]
  },
  {
   "attachments": {},
   "cell_type": "markdown",
   "metadata": {},
   "source": [
    "Elegimos un restaurante para ver su correlación con todos los demás en la matriz"
   ]
  },
  {
   "cell_type": "code",
   "execution_count": 51,
   "metadata": {},
   "outputs": [
    {
     "data": {
      "text/plain": [
       "543"
      ]
     },
     "execution_count": 51,
     "metadata": {},
     "output_type": "execute_result"
    }
   ],
   "source": [
    "# Look for Taco Bell index\n",
    "\n",
    "liked = 'Taco Bell'\n",
    "\n",
    "names = UtlMtrx.columns \n",
    "names_list = list(names)\n",
    "id_liked = names_list.index(liked)\n",
    "\n",
    "id_liked"
   ]
  },
  {
   "cell_type": "code",
   "execution_count": 52,
   "metadata": {},
   "outputs": [
    {
     "name": "stdout",
     "output_type": "stream",
     "text": [
      "(659,)\n"
     ]
    },
    {
     "data": {
      "text/plain": [
       "array([ 0.27722971,  0.84905127,  0.88626614, -0.23836612,  0.68905721,\n",
       "        0.19158651,  0.83262829,  0.4679791 ,  0.84919995,  0.91376032])"
      ]
     },
     "execution_count": 52,
     "metadata": {},
     "output_type": "execute_result"
    }
   ],
   "source": [
    "# Check the correlation with some restaurants\n",
    "corr_recom = corrMtx[id_liked]\n",
    "print(corr_recom.shape)\n",
    "corr_recom[0:10]"
   ]
  },
  {
   "attachments": {},
   "cell_type": "markdown",
   "metadata": {},
   "source": [
    "Comprobamos que la correlacion de el restaurante elegido consigo mismo es = 1"
   ]
  },
  {
   "cell_type": "code",
   "execution_count": 53,
   "metadata": {},
   "outputs": [
    {
     "data": {
      "text/plain": [
       "1.0"
      ]
     },
     "execution_count": 53,
     "metadata": {},
     "output_type": "execute_result"
    }
   ],
   "source": [
    "# Check restaurant correlation with itself\n",
    "corr_recom[id_liked]"
   ]
  },
  {
   "attachments": {},
   "cell_type": "markdown",
   "metadata": {},
   "source": [
    "#### Obtenemos las recomendaciones de acuerdo al restaurante seleccionado"
   ]
  },
  {
   "attachments": {},
   "cell_type": "markdown",
   "metadata": {},
   "source": [
    "#### *Ejemplo 1*:"
   ]
  },
  {
   "cell_type": "code",
   "execution_count": 54,
   "metadata": {},
   "outputs": [
    {
     "name": "stdout",
     "output_type": "stream",
     "text": [
      "Recomendaciones: \n"
     ]
    },
    {
     "data": {
      "text/plain": [
       "['El Rincon Bohemio',\n",
       " 'Kanaloa Seafood',\n",
       " 'La Salsa Fresh Mexican Grill',\n",
       " 'Le Cafe Stella',\n",
       " \"Louie's California Bistro\",\n",
       " \"Norton's Pastrami & Deli\",\n",
       " \"Rudy's Restaurant No 1\",\n",
       " \"Rusty's Pizza Parlor\",\n",
       " 'Santa Barbara Roasting Company',\n",
       " 'Subway',\n",
       " 'Sushi GoGo',\n",
       " 'The Creekside Restaurant & Bar',\n",
       " 'The Natural Cafe',\n",
       " 'The Spot']"
      ]
     },
     "execution_count": 54,
     "metadata": {},
     "output_type": "execute_result"
    }
   ],
   "source": [
    "# Restaurant 'Taco Bell'\n",
    "\n",
    "print('Recomendaciones: ')\n",
    "list(names[(corr_recom > .97) & (corr_recom < .99)]) "
   ]
  },
  {
   "attachments": {},
   "cell_type": "markdown",
   "metadata": {},
   "source": [
    "Ordenamos de manera descendente de acuerdo al coeficiente de correlación "
   ]
  },
  {
   "cell_type": "code",
   "execution_count": 55,
   "metadata": {},
   "outputs": [
    {
     "data": {
      "text/plain": [
       "[(0.9833773235273976, 'Sushi GoGo'),\n",
       " (0.981287684808783, 'Kanaloa Seafood'),\n",
       " (0.9798377810806902, 'El Rincon Bohemio'),\n",
       " (0.9784690140612011, \"Rusty's Pizza Parlor\"),\n",
       " (0.9747570172467663, 'The Spot'),\n",
       " (0.9741633073734431, 'The Creekside Restaurant & Bar'),\n",
       " (0.974039616483174, 'Le Cafe Stella'),\n",
       " (0.9739885560901294, \"Norton's Pastrami & Deli\"),\n",
       " (0.9736606168271407, \"Louie's California Bistro\"),\n",
       " (0.9725712765566373, 'La Salsa Fresh Mexican Grill'),\n",
       " (0.9725167542395202, \"Rudy's Restaurant No 1\"),\n",
       " (0.9722586533717934, 'The Natural Cafe'),\n",
       " (0.9714720542932522, 'Santa Barbara Roasting Company'),\n",
       " (0.9713876876267626, 'Subway')]"
      ]
     },
     "execution_count": 55,
     "metadata": {},
     "output_type": "execute_result"
    }
   ],
   "source": [
    "ids = (corr_recom > .97) & (corr_recom < 0.99)\n",
    "tmp = list()\n",
    "\n",
    "for i in range(len(names[ids])):\n",
    "    tmp.append((corr_recom[ids][i], names[ids][i]))\n",
    "\n",
    "sorted(tmp, key=lambda x:x[0], reverse=True) "
   ]
  },
  {
   "attachments": {},
   "cell_type": "markdown",
   "metadata": {},
   "source": [
    "#### *Ejemplo 2:*"
   ]
  },
  {
   "cell_type": "code",
   "execution_count": 61,
   "metadata": {},
   "outputs": [
    {
     "name": "stdout",
     "output_type": "stream",
     "text": [
      "Recomendaciones: \n"
     ]
    },
    {
     "data": {
      "text/plain": [
       "[(0.9895331095411122, \"Ca' Dario Goleta\"),\n",
       " (0.9894856825419752, 'Pizza Online Company'),\n",
       " (0.9893928162973604, 'Eureka!'),\n",
       " (0.9877970831852984, \"Petrini's Italian Restaurant - Santa Barbara\"),\n",
       " (0.9876517652603611, 'Dave’s Dogs'),\n",
       " (0.9861694750347899, 'On The Alley - Goleta'),\n",
       " (0.9851451845488123, \"Lito's Take  Out\"),\n",
       " (0.9848178253853797, 'South Coast Deli- Carrillo'),\n",
       " (0.9846829822461028, 'IHOP'),\n",
       " (0.9827862975267132, \"Guicho's Eatery\"),\n",
       " (0.9826138192217945, 'Java Station'),\n",
       " (0.9817918052692886, 'JJ’s Diner'),\n",
       " (0.9817349443452706, 'Zen Yai Thai Cuisine'),\n",
       " (0.9814142632448193, 'La Tapatia'),\n",
       " (0.9814033472917097, 'China Pavilion'),\n",
       " (0.9810185527577012, 'Ichiban'),\n",
       " (0.9804089530385499, \"Big Joe's Tacos\"),\n",
       " (0.9803203307117494, \"Super Cuca's Restaurant\"),\n",
       " (0.9800081323765931, 'Nutbelly Pizzeria and Deli')]"
      ]
     },
     "execution_count": 61,
     "metadata": {},
     "output_type": "execute_result"
    }
   ],
   "source": [
    "# Restaurant 'Presto Pasta'\n",
    "liked = \"Presto Pasta\"\n",
    "id_liked = names_list.index(liked)\n",
    "corr_recom = corrMtx[id_liked]\n",
    "\n",
    "print('Recomendaciones: ')\n",
    "ids = (corr_recom > .98) & (corr_recom < 0.99)\n",
    "tmp = list()\n",
    "\n",
    "for i in range(len(names[ids])):\n",
    "    tmp.append((corr_recom[ids][i], names[ids][i]))\n",
    "\n",
    "sorted(tmp, key=lambda x:x[0], reverse=True) "
   ]
  },
  {
   "attachments": {},
   "cell_type": "markdown",
   "metadata": {},
   "source": [
    "_ _ _"
   ]
  },
  {
   "attachments": {},
   "cell_type": "markdown",
   "metadata": {},
   "source": [
    "#### Modelo basado en los usuarios"
   ]
  },
  {
   "cell_type": "code",
   "execution_count": 66,
   "metadata": {},
   "outputs": [
    {
     "data": {
      "text/plain": [
       "(23468, 659)"
      ]
     },
     "execution_count": 66,
     "metadata": {},
     "output_type": "execute_result"
    }
   ],
   "source": [
    "Xu = UtlMtrx\n",
    "Xu.shape"
   ]
  },
  {
   "cell_type": "code",
   "execution_count": 67,
   "metadata": {},
   "outputs": [
    {
     "data": {
      "text/html": [
       "<div>\n",
       "<style scoped>\n",
       "    .dataframe tbody tr th:only-of-type {\n",
       "        vertical-align: middle;\n",
       "    }\n",
       "\n",
       "    .dataframe tbody tr th {\n",
       "        vertical-align: top;\n",
       "    }\n",
       "\n",
       "    .dataframe thead th {\n",
       "        text-align: right;\n",
       "    }\n",
       "</style>\n",
       "<table border=\"1\" class=\"dataframe\">\n",
       "  <thead>\n",
       "    <tr style=\"text-align: right;\">\n",
       "      <th>name</th>\n",
       "      <th>101 Deli</th>\n",
       "      <th>1114 Sports Bar &amp; Games</th>\n",
       "      <th>4 Eggs &amp; Pizza</th>\n",
       "      <th>A Slice of Woodstock's</th>\n",
       "      <th>AH Juice Organics</th>\n",
       "      <th>AR Catering</th>\n",
       "      <th>ASIE</th>\n",
       "      <th>Aksum Restaurant</th>\n",
       "      <th>Aladdin Cafe</th>\n",
       "      <th>Alcazar Tapas Bar</th>\n",
       "      <th>...</th>\n",
       "      <th>Yona Redz</th>\n",
       "      <th>Your Choice</th>\n",
       "      <th>Your Place Thai Restaurant</th>\n",
       "      <th>Yume Sushi Japanese Restaurant</th>\n",
       "      <th>Z's - Taphouse &amp; Grill</th>\n",
       "      <th>Zaytoon</th>\n",
       "      <th>Zen Yai Thai Cuisine</th>\n",
       "      <th>Zizzo's Coffeehouse</th>\n",
       "      <th>Zodo's Bowlero Bowling &amp; Beyond</th>\n",
       "      <th>Zookers Cafe</th>\n",
       "    </tr>\n",
       "    <tr>\n",
       "      <th>user_id</th>\n",
       "      <th></th>\n",
       "      <th></th>\n",
       "      <th></th>\n",
       "      <th></th>\n",
       "      <th></th>\n",
       "      <th></th>\n",
       "      <th></th>\n",
       "      <th></th>\n",
       "      <th></th>\n",
       "      <th></th>\n",
       "      <th></th>\n",
       "      <th></th>\n",
       "      <th></th>\n",
       "      <th></th>\n",
       "      <th></th>\n",
       "      <th></th>\n",
       "      <th></th>\n",
       "      <th></th>\n",
       "      <th></th>\n",
       "      <th></th>\n",
       "      <th></th>\n",
       "    </tr>\n",
       "  </thead>\n",
       "  <tbody>\n",
       "    <tr>\n",
       "      <th>---zemaUC8WeJeWKqS6p9Q</th>\n",
       "      <td>0</td>\n",
       "      <td>0</td>\n",
       "      <td>0</td>\n",
       "      <td>0</td>\n",
       "      <td>0</td>\n",
       "      <td>0</td>\n",
       "      <td>0</td>\n",
       "      <td>0</td>\n",
       "      <td>0</td>\n",
       "      <td>0</td>\n",
       "      <td>...</td>\n",
       "      <td>0</td>\n",
       "      <td>0</td>\n",
       "      <td>0</td>\n",
       "      <td>0</td>\n",
       "      <td>0</td>\n",
       "      <td>0</td>\n",
       "      <td>0.0</td>\n",
       "      <td>0</td>\n",
       "      <td>0</td>\n",
       "      <td>0</td>\n",
       "    </tr>\n",
       "    <tr>\n",
       "      <th>--2F5G5LKt3h2cAXJbZptg</th>\n",
       "      <td>0</td>\n",
       "      <td>0</td>\n",
       "      <td>0</td>\n",
       "      <td>0</td>\n",
       "      <td>0</td>\n",
       "      <td>0</td>\n",
       "      <td>0</td>\n",
       "      <td>0</td>\n",
       "      <td>0</td>\n",
       "      <td>0</td>\n",
       "      <td>...</td>\n",
       "      <td>0</td>\n",
       "      <td>0</td>\n",
       "      <td>0</td>\n",
       "      <td>0</td>\n",
       "      <td>0</td>\n",
       "      <td>0</td>\n",
       "      <td>0.0</td>\n",
       "      <td>0</td>\n",
       "      <td>0</td>\n",
       "      <td>0</td>\n",
       "    </tr>\n",
       "    <tr>\n",
       "      <th>--7XOV5T9yZR5w1DIy_Dog</th>\n",
       "      <td>0</td>\n",
       "      <td>0</td>\n",
       "      <td>0</td>\n",
       "      <td>0</td>\n",
       "      <td>0</td>\n",
       "      <td>0</td>\n",
       "      <td>0</td>\n",
       "      <td>0</td>\n",
       "      <td>0</td>\n",
       "      <td>0</td>\n",
       "      <td>...</td>\n",
       "      <td>0</td>\n",
       "      <td>0</td>\n",
       "      <td>0</td>\n",
       "      <td>0</td>\n",
       "      <td>0</td>\n",
       "      <td>0</td>\n",
       "      <td>0.0</td>\n",
       "      <td>0</td>\n",
       "      <td>0</td>\n",
       "      <td>0</td>\n",
       "    </tr>\n",
       "    <tr>\n",
       "      <th>--8YG4BoOWFGjdh9Fxop-w</th>\n",
       "      <td>0</td>\n",
       "      <td>0</td>\n",
       "      <td>0</td>\n",
       "      <td>0</td>\n",
       "      <td>0</td>\n",
       "      <td>0</td>\n",
       "      <td>0</td>\n",
       "      <td>0</td>\n",
       "      <td>0</td>\n",
       "      <td>0</td>\n",
       "      <td>...</td>\n",
       "      <td>0</td>\n",
       "      <td>0</td>\n",
       "      <td>0</td>\n",
       "      <td>0</td>\n",
       "      <td>0</td>\n",
       "      <td>0</td>\n",
       "      <td>0.0</td>\n",
       "      <td>0</td>\n",
       "      <td>0</td>\n",
       "      <td>0</td>\n",
       "    </tr>\n",
       "    <tr>\n",
       "      <th>--_QWYpJ2In2IgW_bouSuQ</th>\n",
       "      <td>0</td>\n",
       "      <td>0</td>\n",
       "      <td>0</td>\n",
       "      <td>0</td>\n",
       "      <td>0</td>\n",
       "      <td>0</td>\n",
       "      <td>0</td>\n",
       "      <td>0</td>\n",
       "      <td>0</td>\n",
       "      <td>0</td>\n",
       "      <td>...</td>\n",
       "      <td>0</td>\n",
       "      <td>0</td>\n",
       "      <td>0</td>\n",
       "      <td>0</td>\n",
       "      <td>0</td>\n",
       "      <td>0</td>\n",
       "      <td>0.0</td>\n",
       "      <td>0</td>\n",
       "      <td>0</td>\n",
       "      <td>0</td>\n",
       "    </tr>\n",
       "  </tbody>\n",
       "</table>\n",
       "<p>5 rows × 659 columns</p>\n",
       "</div>"
      ],
      "text/plain": [
       "name                    101 Deli  1114 Sports Bar & Games  4 Eggs & Pizza  \\\n",
       "user_id                                                                     \n",
       "---zemaUC8WeJeWKqS6p9Q         0                        0               0   \n",
       "--2F5G5LKt3h2cAXJbZptg         0                        0               0   \n",
       "--7XOV5T9yZR5w1DIy_Dog         0                        0               0   \n",
       "--8YG4BoOWFGjdh9Fxop-w         0                        0               0   \n",
       "--_QWYpJ2In2IgW_bouSuQ         0                        0               0   \n",
       "\n",
       "name                    A Slice of Woodstock's  AH Juice Organics  \\\n",
       "user_id                                                             \n",
       "---zemaUC8WeJeWKqS6p9Q                       0                  0   \n",
       "--2F5G5LKt3h2cAXJbZptg                       0                  0   \n",
       "--7XOV5T9yZR5w1DIy_Dog                       0                  0   \n",
       "--8YG4BoOWFGjdh9Fxop-w                       0                  0   \n",
       "--_QWYpJ2In2IgW_bouSuQ                       0                  0   \n",
       "\n",
       "name                    AR Catering  ASIE  Aksum Restaurant  Aladdin Cafe  \\\n",
       "user_id                                                                     \n",
       "---zemaUC8WeJeWKqS6p9Q            0     0                 0             0   \n",
       "--2F5G5LKt3h2cAXJbZptg            0     0                 0             0   \n",
       "--7XOV5T9yZR5w1DIy_Dog            0     0                 0             0   \n",
       "--8YG4BoOWFGjdh9Fxop-w            0     0                 0             0   \n",
       "--_QWYpJ2In2IgW_bouSuQ            0     0                 0             0   \n",
       "\n",
       "name                    Alcazar Tapas Bar  ...  Yona Redz  Your Choice  \\\n",
       "user_id                                    ...                           \n",
       "---zemaUC8WeJeWKqS6p9Q                  0  ...          0            0   \n",
       "--2F5G5LKt3h2cAXJbZptg                  0  ...          0            0   \n",
       "--7XOV5T9yZR5w1DIy_Dog                  0  ...          0            0   \n",
       "--8YG4BoOWFGjdh9Fxop-w                  0  ...          0            0   \n",
       "--_QWYpJ2In2IgW_bouSuQ                  0  ...          0            0   \n",
       "\n",
       "name                    Your Place Thai Restaurant  \\\n",
       "user_id                                              \n",
       "---zemaUC8WeJeWKqS6p9Q                           0   \n",
       "--2F5G5LKt3h2cAXJbZptg                           0   \n",
       "--7XOV5T9yZR5w1DIy_Dog                           0   \n",
       "--8YG4BoOWFGjdh9Fxop-w                           0   \n",
       "--_QWYpJ2In2IgW_bouSuQ                           0   \n",
       "\n",
       "name                    Yume Sushi Japanese Restaurant  \\\n",
       "user_id                                                  \n",
       "---zemaUC8WeJeWKqS6p9Q                               0   \n",
       "--2F5G5LKt3h2cAXJbZptg                               0   \n",
       "--7XOV5T9yZR5w1DIy_Dog                               0   \n",
       "--8YG4BoOWFGjdh9Fxop-w                               0   \n",
       "--_QWYpJ2In2IgW_bouSuQ                               0   \n",
       "\n",
       "name                    Z's - Taphouse & Grill  Zaytoon  Zen Yai Thai Cuisine  \\\n",
       "user_id                                                                         \n",
       "---zemaUC8WeJeWKqS6p9Q                       0        0                   0.0   \n",
       "--2F5G5LKt3h2cAXJbZptg                       0        0                   0.0   \n",
       "--7XOV5T9yZR5w1DIy_Dog                       0        0                   0.0   \n",
       "--8YG4BoOWFGjdh9Fxop-w                       0        0                   0.0   \n",
       "--_QWYpJ2In2IgW_bouSuQ                       0        0                   0.0   \n",
       "\n",
       "name                    Zizzo's Coffeehouse  Zodo's Bowlero Bowling & Beyond  \\\n",
       "user_id                                                                        \n",
       "---zemaUC8WeJeWKqS6p9Q                    0                                0   \n",
       "--2F5G5LKt3h2cAXJbZptg                    0                                0   \n",
       "--7XOV5T9yZR5w1DIy_Dog                    0                                0   \n",
       "--8YG4BoOWFGjdh9Fxop-w                    0                                0   \n",
       "--_QWYpJ2In2IgW_bouSuQ                    0                                0   \n",
       "\n",
       "name                    Zookers Cafe  \n",
       "user_id                               \n",
       "---zemaUC8WeJeWKqS6p9Q             0  \n",
       "--2F5G5LKt3h2cAXJbZptg             0  \n",
       "--7XOV5T9yZR5w1DIy_Dog             0  \n",
       "--8YG4BoOWFGjdh9Fxop-w             0  \n",
       "--_QWYpJ2In2IgW_bouSuQ             0  \n",
       "\n",
       "[5 rows x 659 columns]"
      ]
     },
     "execution_count": 67,
     "metadata": {},
     "output_type": "execute_result"
    }
   ],
   "source": [
    "Xu.head()"
   ]
  },
  {
   "cell_type": "code",
   "execution_count": 68,
   "metadata": {},
   "outputs": [
    {
     "name": "stdout",
     "output_type": "stream",
     "text": [
      "Cantidad de información simplificada con los primeros 10 vectores singulares:\n",
      "94.4%\n"
     ]
    }
   ],
   "source": [
    "SVDu = TruncatedSVD(n_components=658, random_state=42)  \n",
    "SVDu.fit(Xu)\n",
    "\n",
    "num_sv = 10\n",
    "\n",
    "print('Cantidad de información simplificada con los primeros %d vectores singulares:' % num_sv)\n",
    "print('%.1f%%' %  (100 * (1- (SVDu.singular_values_[0:num_sv]).sum() / (SVDu.singular_values_).sum())))"
   ]
  },
  {
   "cell_type": "code",
   "execution_count": 69,
   "metadata": {},
   "outputs": [
    {
     "data": {
      "text/plain": [
       "(23468, 10)"
      ]
     },
     "execution_count": 69,
     "metadata": {},
     "output_type": "execute_result"
    }
   ],
   "source": [
    "num_sv = 10\n",
    "\n",
    "SVDu = TruncatedSVD(n_components=num_sv, random_state=42)\n",
    "\n",
    "resultant_umatx = SVDu.fit_transform(Xu)\n",
    "resultant_umatx.shape"
   ]
  },
  {
   "cell_type": "code",
   "execution_count": 70,
   "metadata": {},
   "outputs": [
    {
     "data": {
      "text/plain": [
       "(23468, 23468)"
      ]
     },
     "execution_count": 70,
     "metadata": {},
     "output_type": "execute_result"
    }
   ],
   "source": [
    "# Pearson correlation matrix\n",
    "corrUmtx = np.corrcoef(resultant_umatx)\n",
    "corrUmtx.shape  "
   ]
  },
  {
   "attachments": {},
   "cell_type": "markdown",
   "metadata": {},
   "source": [
    "Seleccionamos algun usuario arbitrariamente"
   ]
  },
  {
   "cell_type": "code",
   "execution_count": 71,
   "metadata": {},
   "outputs": [],
   "source": [
    "user = '4MSEWnnxKhNdh7GgNHM-YQ'\n",
    "\n",
    "userids = UtlMtrx.index \n",
    "users_list = list(userids)\n",
    "user_id = users_list.index(user)\n",
    "\n",
    "corr_urecom = corrUmtx[user_id]"
   ]
  },
  {
   "cell_type": "code",
   "execution_count": 72,
   "metadata": {},
   "outputs": [
    {
     "name": "stdout",
     "output_type": "stream",
     "text": [
      "Usuarios relacionados: \n"
     ]
    },
    {
     "data": {
      "text/plain": [
       "[(0.9870877598077107, 'KcZ52cNO_o9SR5WFkpFCBw'),\n",
       " (0.9840279154451025, 'jxFgDOyjI1u0vznjm3q2QQ'),\n",
       " (0.9836280647749515, 'BWjVF5476cdpwqXKh5r8Kw'),\n",
       " (0.982849830971292, 'wK0Q4UtcvMsZNLitf5hKTA'),\n",
       " (0.9825545775716569, 'z1HlPVSEde7iuaPtwTx6Fw'),\n",
       " (0.9822834953748576, 'knReN1F-2WbpQzyhElvnYQ'),\n",
       " (0.9809998598494641, 'QmF2rD3E4erx9471QxIUDQ'),\n",
       " (0.9802074702158957, 'HhW_eGhtUJryU2ZaI0uSpw')]"
      ]
     },
     "execution_count": 72,
     "metadata": {},
     "output_type": "execute_result"
    }
   ],
   "source": [
    "uids = (corr_urecom > .98) & (corr_urecom < .99)\n",
    "tmp = list()\n",
    "\n",
    "for i in range(len(userids[uids])):\n",
    "    tmp.append((corr_urecom[uids][i], userids[uids][i]))\n",
    "\n",
    "print('Usuarios relacionados: ')\n",
    "sorted(tmp, key=lambda x:x[0], reverse=True)"
   ]
  },
  {
   "attachments": {},
   "cell_type": "markdown",
   "metadata": {},
   "source": [
    "Para tener mejor contexto, observemos las calificaciones que los primeros dos usuarios de la lista han hecho"
   ]
  },
  {
   "cell_type": "code",
   "execution_count": 73,
   "metadata": {},
   "outputs": [
    {
     "data": {
      "text/html": [
       "<div>\n",
       "<style scoped>\n",
       "    .dataframe tbody tr th:only-of-type {\n",
       "        vertical-align: middle;\n",
       "    }\n",
       "\n",
       "    .dataframe tbody tr th {\n",
       "        vertical-align: top;\n",
       "    }\n",
       "\n",
       "    .dataframe thead th {\n",
       "        text-align: right;\n",
       "    }\n",
       "</style>\n",
       "<table border=\"1\" class=\"dataframe\">\n",
       "  <thead>\n",
       "    <tr style=\"text-align: right;\">\n",
       "      <th></th>\n",
       "      <th>user_id</th>\n",
       "      <th>business_id</th>\n",
       "      <th>stars</th>\n",
       "      <th>name</th>\n",
       "    </tr>\n",
       "  </thead>\n",
       "  <tbody>\n",
       "    <tr>\n",
       "      <th>8613</th>\n",
       "      <td>KcZ52cNO_o9SR5WFkpFCBw</td>\n",
       "      <td>IZZ7J14VnJGyUqYH1tgT6w</td>\n",
       "      <td>5.0</td>\n",
       "      <td>Satellite</td>\n",
       "    </tr>\n",
       "    <tr>\n",
       "      <th>11387</th>\n",
       "      <td>KcZ52cNO_o9SR5WFkpFCBw</td>\n",
       "      <td>4h4Uskb7B8OTI7oDR7wImQ</td>\n",
       "      <td>5.0</td>\n",
       "      <td>Mesa Burger - Goleta</td>\n",
       "    </tr>\n",
       "    <tr>\n",
       "      <th>27245</th>\n",
       "      <td>KcZ52cNO_o9SR5WFkpFCBw</td>\n",
       "      <td>3rzlcCvPUJ56jvYWl7iGvA</td>\n",
       "      <td>5.0</td>\n",
       "      <td>Modern Times Kitchen</td>\n",
       "    </tr>\n",
       "    <tr>\n",
       "      <th>32656</th>\n",
       "      <td>KcZ52cNO_o9SR5WFkpFCBw</td>\n",
       "      <td>UQZe-qWOpGiyEPsTUko5Rg</td>\n",
       "      <td>5.0</td>\n",
       "      <td>Rascal's Vegan Food</td>\n",
       "    </tr>\n",
       "  </tbody>\n",
       "</table>\n",
       "</div>"
      ],
      "text/plain": [
       "                      user_id             business_id  stars  \\\n",
       "8613   KcZ52cNO_o9SR5WFkpFCBw  IZZ7J14VnJGyUqYH1tgT6w    5.0   \n",
       "11387  KcZ52cNO_o9SR5WFkpFCBw  4h4Uskb7B8OTI7oDR7wImQ    5.0   \n",
       "27245  KcZ52cNO_o9SR5WFkpFCBw  3rzlcCvPUJ56jvYWl7iGvA    5.0   \n",
       "32656  KcZ52cNO_o9SR5WFkpFCBw  UQZe-qWOpGiyEPsTUko5Rg    5.0   \n",
       "\n",
       "                       name  \n",
       "8613              Satellite  \n",
       "11387  Mesa Burger - Goleta  \n",
       "27245  Modern Times Kitchen  \n",
       "32656   Rascal's Vegan Food  "
      ]
     },
     "execution_count": 73,
     "metadata": {},
     "output_type": "execute_result"
    }
   ],
   "source": [
    "idx = (df_recsys['user_id']== 'KcZ52cNO_o9SR5WFkpFCBw')\n",
    "# print user's reviews\n",
    "df_recsys[idx]"
   ]
  },
  {
   "cell_type": "code",
   "execution_count": 74,
   "metadata": {},
   "outputs": [
    {
     "data": {
      "text/html": [
       "<div>\n",
       "<style scoped>\n",
       "    .dataframe tbody tr th:only-of-type {\n",
       "        vertical-align: middle;\n",
       "    }\n",
       "\n",
       "    .dataframe tbody tr th {\n",
       "        vertical-align: top;\n",
       "    }\n",
       "\n",
       "    .dataframe thead th {\n",
       "        text-align: right;\n",
       "    }\n",
       "</style>\n",
       "<table border=\"1\" class=\"dataframe\">\n",
       "  <thead>\n",
       "    <tr style=\"text-align: right;\">\n",
       "      <th></th>\n",
       "      <th>user_id</th>\n",
       "      <th>business_id</th>\n",
       "      <th>stars</th>\n",
       "      <th>name</th>\n",
       "    </tr>\n",
       "  </thead>\n",
       "  <tbody>\n",
       "    <tr>\n",
       "      <th>131</th>\n",
       "      <td>jxFgDOyjI1u0vznjm3q2QQ</td>\n",
       "      <td>MbzgGsMQpGyVrUJXi_Jw0Q</td>\n",
       "      <td>5.0</td>\n",
       "      <td>Dawn Patrol</td>\n",
       "    </tr>\n",
       "    <tr>\n",
       "      <th>9140</th>\n",
       "      <td>jxFgDOyjI1u0vznjm3q2QQ</td>\n",
       "      <td>E1R-xslwl7XeTN5lQ7mWPg</td>\n",
       "      <td>5.0</td>\n",
       "      <td>Little Kitchen</td>\n",
       "    </tr>\n",
       "    <tr>\n",
       "      <th>10351</th>\n",
       "      <td>jxFgDOyjI1u0vznjm3q2QQ</td>\n",
       "      <td>q36uZc2hQml10YGHazJaoQ</td>\n",
       "      <td>5.0</td>\n",
       "      <td>Secret Bao</td>\n",
       "    </tr>\n",
       "    <tr>\n",
       "      <th>15291</th>\n",
       "      <td>jxFgDOyjI1u0vznjm3q2QQ</td>\n",
       "      <td>L6nIOUwcTGgQKExGHmvTzQ</td>\n",
       "      <td>4.0</td>\n",
       "      <td>Noodle City</td>\n",
       "    </tr>\n",
       "    <tr>\n",
       "      <th>16239</th>\n",
       "      <td>jxFgDOyjI1u0vznjm3q2QQ</td>\n",
       "      <td>2MWEEuY3dtD2DNP99sNe_A</td>\n",
       "      <td>4.0</td>\n",
       "      <td>Elubia's Kitchen</td>\n",
       "    </tr>\n",
       "    <tr>\n",
       "      <th>21882</th>\n",
       "      <td>jxFgDOyjI1u0vznjm3q2QQ</td>\n",
       "      <td>ZJzlns_dFkapVajmdFHGuw</td>\n",
       "      <td>5.0</td>\n",
       "      <td>Embermill</td>\n",
       "    </tr>\n",
       "    <tr>\n",
       "      <th>26261</th>\n",
       "      <td>jxFgDOyjI1u0vznjm3q2QQ</td>\n",
       "      <td>O2lFAWD2WXXx5EKkzPutWQ</td>\n",
       "      <td>5.0</td>\n",
       "      <td>Your Place Thai Restaurant</td>\n",
       "    </tr>\n",
       "    <tr>\n",
       "      <th>31663</th>\n",
       "      <td>jxFgDOyjI1u0vznjm3q2QQ</td>\n",
       "      <td>bBA62rVklEG2WUnvi8RtrQ</td>\n",
       "      <td>5.0</td>\n",
       "      <td>El  Sitio</td>\n",
       "    </tr>\n",
       "    <tr>\n",
       "      <th>32639</th>\n",
       "      <td>jxFgDOyjI1u0vznjm3q2QQ</td>\n",
       "      <td>UQZe-qWOpGiyEPsTUko5Rg</td>\n",
       "      <td>4.0</td>\n",
       "      <td>Rascal's Vegan Food</td>\n",
       "    </tr>\n",
       "    <tr>\n",
       "      <th>35370</th>\n",
       "      <td>jxFgDOyjI1u0vznjm3q2QQ</td>\n",
       "      <td>xkS_mRHVHuX0ko6kVIyBdA</td>\n",
       "      <td>5.0</td>\n",
       "      <td>Masala Spice Indian Cuisine</td>\n",
       "    </tr>\n",
       "    <tr>\n",
       "      <th>35428</th>\n",
       "      <td>jxFgDOyjI1u0vznjm3q2QQ</td>\n",
       "      <td>fiQxkb1pfPpvrr0oYYYBcA</td>\n",
       "      <td>5.0</td>\n",
       "      <td>The Daisy Restaurant</td>\n",
       "    </tr>\n",
       "    <tr>\n",
       "      <th>37133</th>\n",
       "      <td>jxFgDOyjI1u0vznjm3q2QQ</td>\n",
       "      <td>QLHgjBHBoeIUoEvIPvjHnw</td>\n",
       "      <td>5.0</td>\n",
       "      <td>Mesa Burger - Santa Barbara</td>\n",
       "    </tr>\n",
       "  </tbody>\n",
       "</table>\n",
       "</div>"
      ],
      "text/plain": [
       "                      user_id             business_id  stars  \\\n",
       "131    jxFgDOyjI1u0vznjm3q2QQ  MbzgGsMQpGyVrUJXi_Jw0Q    5.0   \n",
       "9140   jxFgDOyjI1u0vznjm3q2QQ  E1R-xslwl7XeTN5lQ7mWPg    5.0   \n",
       "10351  jxFgDOyjI1u0vznjm3q2QQ  q36uZc2hQml10YGHazJaoQ    5.0   \n",
       "15291  jxFgDOyjI1u0vznjm3q2QQ  L6nIOUwcTGgQKExGHmvTzQ    4.0   \n",
       "16239  jxFgDOyjI1u0vznjm3q2QQ  2MWEEuY3dtD2DNP99sNe_A    4.0   \n",
       "21882  jxFgDOyjI1u0vznjm3q2QQ  ZJzlns_dFkapVajmdFHGuw    5.0   \n",
       "26261  jxFgDOyjI1u0vznjm3q2QQ  O2lFAWD2WXXx5EKkzPutWQ    5.0   \n",
       "31663  jxFgDOyjI1u0vznjm3q2QQ  bBA62rVklEG2WUnvi8RtrQ    5.0   \n",
       "32639  jxFgDOyjI1u0vznjm3q2QQ  UQZe-qWOpGiyEPsTUko5Rg    4.0   \n",
       "35370  jxFgDOyjI1u0vznjm3q2QQ  xkS_mRHVHuX0ko6kVIyBdA    5.0   \n",
       "35428  jxFgDOyjI1u0vznjm3q2QQ  fiQxkb1pfPpvrr0oYYYBcA    5.0   \n",
       "37133  jxFgDOyjI1u0vznjm3q2QQ  QLHgjBHBoeIUoEvIPvjHnw    5.0   \n",
       "\n",
       "                              name  \n",
       "131                    Dawn Patrol  \n",
       "9140                Little Kitchen  \n",
       "10351                   Secret Bao  \n",
       "15291                  Noodle City  \n",
       "16239             Elubia's Kitchen  \n",
       "21882                    Embermill  \n",
       "26261   Your Place Thai Restaurant  \n",
       "31663                    El  Sitio  \n",
       "32639          Rascal's Vegan Food  \n",
       "35370  Masala Spice Indian Cuisine  \n",
       "35428         The Daisy Restaurant  \n",
       "37133  Mesa Burger - Santa Barbara  "
      ]
     },
     "execution_count": 74,
     "metadata": {},
     "output_type": "execute_result"
    }
   ],
   "source": [
    "idx = (df_recsys['user_id']== 'jxFgDOyjI1u0vznjm3q2QQ')\n",
    "# print user's reviews\n",
    "df_recsys[idx]"
   ]
  },
  {
   "attachments": {},
   "cell_type": "markdown",
   "metadata": {},
   "source": [
    "Notamos que ambos usuarios han dado una buena calificación a los restaurantes **Mesa Burger** y **Rascal's Vegan Food**"
   ]
  }
 ],
 "metadata": {
  "kernelspec": {
   "display_name": "Python 3",
   "language": "python",
   "name": "python3"
  },
  "language_info": {
   "codemirror_mode": {
    "name": "ipython",
    "version": 3
   },
   "file_extension": ".py",
   "mimetype": "text/x-python",
   "name": "python",
   "nbconvert_exporter": "python",
   "pygments_lexer": "ipython3",
   "version": "3.10.1"
  },
  "orig_nbformat": 4,
  "vscode": {
   "interpreter": {
    "hash": "aee8b7b246df8f9039afb4144a1f6fd8d2ca17a180786b69acc140d282b71a49"
   }
  }
 },
 "nbformat": 4,
 "nbformat_minor": 2
}
