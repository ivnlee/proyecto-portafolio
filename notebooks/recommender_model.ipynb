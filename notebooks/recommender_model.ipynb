{
 "cells": [
  {
   "cell_type": "code",
   "execution_count": 1,
   "metadata": {},
   "outputs": [],
   "source": [
    "import numpy as np\n",
    "import pandas as pd\n",
    "\n",
    "from sklearn.decomposition import TruncatedSVD"
   ]
  },
  {
   "cell_type": "code",
   "execution_count": 63,
   "metadata": {},
   "outputs": [
    {
     "data": {
      "text/html": [
       "<div>\n",
       "<style scoped>\n",
       "    .dataframe tbody tr th:only-of-type {\n",
       "        vertical-align: middle;\n",
       "    }\n",
       "\n",
       "    .dataframe tbody tr th {\n",
       "        vertical-align: top;\n",
       "    }\n",
       "\n",
       "    .dataframe thead th {\n",
       "        text-align: right;\n",
       "    }\n",
       "</style>\n",
       "<table border=\"1\" class=\"dataframe\">\n",
       "  <thead>\n",
       "    <tr style=\"text-align: right;\">\n",
       "      <th></th>\n",
       "      <th>user_id</th>\n",
       "      <th>business_id</th>\n",
       "      <th>stars</th>\n",
       "      <th>name</th>\n",
       "    </tr>\n",
       "  </thead>\n",
       "  <tbody>\n",
       "    <tr>\n",
       "      <th>0</th>\n",
       "      <td>IlWLPCRQp8iqX0X-ExQccQ</td>\n",
       "      <td>bdfZdB2MTXlT6-RBjSIpQg</td>\n",
       "      <td>4.0</td>\n",
       "      <td>Pho Bistro</td>\n",
       "    </tr>\n",
       "    <tr>\n",
       "      <th>1</th>\n",
       "      <td>WSMIRegvrsEgFGEraf_LwQ</td>\n",
       "      <td>bdfZdB2MTXlT6-RBjSIpQg</td>\n",
       "      <td>5.0</td>\n",
       "      <td>Pho Bistro</td>\n",
       "    </tr>\n",
       "    <tr>\n",
       "      <th>2</th>\n",
       "      <td>2odfcvFhkb8SedI3vCLpmQ</td>\n",
       "      <td>bdfZdB2MTXlT6-RBjSIpQg</td>\n",
       "      <td>5.0</td>\n",
       "      <td>Pho Bistro</td>\n",
       "    </tr>\n",
       "    <tr>\n",
       "      <th>3</th>\n",
       "      <td>OEKu0Rts0spELpbnucDKmA</td>\n",
       "      <td>bdfZdB2MTXlT6-RBjSIpQg</td>\n",
       "      <td>5.0</td>\n",
       "      <td>Pho Bistro</td>\n",
       "    </tr>\n",
       "    <tr>\n",
       "      <th>4</th>\n",
       "      <td>4MSEWnnxKhNdh7GgNHM-YQ</td>\n",
       "      <td>bdfZdB2MTXlT6-RBjSIpQg</td>\n",
       "      <td>4.0</td>\n",
       "      <td>Pho Bistro</td>\n",
       "    </tr>\n",
       "    <tr>\n",
       "      <th>5</th>\n",
       "      <td>gJyqSThsQDT-04VE2gR1TQ</td>\n",
       "      <td>bdfZdB2MTXlT6-RBjSIpQg</td>\n",
       "      <td>4.0</td>\n",
       "      <td>Pho Bistro</td>\n",
       "    </tr>\n",
       "    <tr>\n",
       "      <th>6</th>\n",
       "      <td>sR3Na7Z0-9-wuv9cU8TW1w</td>\n",
       "      <td>bdfZdB2MTXlT6-RBjSIpQg</td>\n",
       "      <td>1.0</td>\n",
       "      <td>Pho Bistro</td>\n",
       "    </tr>\n",
       "    <tr>\n",
       "      <th>7</th>\n",
       "      <td>GVoSyA04GQTLZb77Bz_kvw</td>\n",
       "      <td>bdfZdB2MTXlT6-RBjSIpQg</td>\n",
       "      <td>1.0</td>\n",
       "      <td>Pho Bistro</td>\n",
       "    </tr>\n",
       "    <tr>\n",
       "      <th>8</th>\n",
       "      <td>qb0tcchdlgGBndTMdjMvoA</td>\n",
       "      <td>bdfZdB2MTXlT6-RBjSIpQg</td>\n",
       "      <td>4.0</td>\n",
       "      <td>Pho Bistro</td>\n",
       "    </tr>\n",
       "    <tr>\n",
       "      <th>9</th>\n",
       "      <td>8eOQq1bHixOS75rfucPwGw</td>\n",
       "      <td>bdfZdB2MTXlT6-RBjSIpQg</td>\n",
       "      <td>1.0</td>\n",
       "      <td>Pho Bistro</td>\n",
       "    </tr>\n",
       "    <tr>\n",
       "      <th>10</th>\n",
       "      <td>GXDoO2doMtx6MT4qahM_lQ</td>\n",
       "      <td>bdfZdB2MTXlT6-RBjSIpQg</td>\n",
       "      <td>3.0</td>\n",
       "      <td>Pho Bistro</td>\n",
       "    </tr>\n",
       "    <tr>\n",
       "      <th>11</th>\n",
       "      <td>SFetwganEk8LDm749kxXYQ</td>\n",
       "      <td>bdfZdB2MTXlT6-RBjSIpQg</td>\n",
       "      <td>1.0</td>\n",
       "      <td>Pho Bistro</td>\n",
       "    </tr>\n",
       "    <tr>\n",
       "      <th>12</th>\n",
       "      <td>Xfg1N7IaefsTjF4n7WBpAQ</td>\n",
       "      <td>bdfZdB2MTXlT6-RBjSIpQg</td>\n",
       "      <td>3.0</td>\n",
       "      <td>Pho Bistro</td>\n",
       "    </tr>\n",
       "    <tr>\n",
       "      <th>13</th>\n",
       "      <td>rm9thuLUABkf6_Aq5HeZhw</td>\n",
       "      <td>bdfZdB2MTXlT6-RBjSIpQg</td>\n",
       "      <td>4.0</td>\n",
       "      <td>Pho Bistro</td>\n",
       "    </tr>\n",
       "    <tr>\n",
       "      <th>14</th>\n",
       "      <td>nfLL3vn_4-zXAfoh7hWiZg</td>\n",
       "      <td>MbzgGsMQpGyVrUJXi_Jw0Q</td>\n",
       "      <td>5.0</td>\n",
       "      <td>Dawn Patrol</td>\n",
       "    </tr>\n",
       "  </tbody>\n",
       "</table>\n",
       "</div>"
      ],
      "text/plain": [
       "                   user_id             business_id  stars         name\n",
       "0   IlWLPCRQp8iqX0X-ExQccQ  bdfZdB2MTXlT6-RBjSIpQg    4.0   Pho Bistro\n",
       "1   WSMIRegvrsEgFGEraf_LwQ  bdfZdB2MTXlT6-RBjSIpQg    5.0   Pho Bistro\n",
       "2   2odfcvFhkb8SedI3vCLpmQ  bdfZdB2MTXlT6-RBjSIpQg    5.0   Pho Bistro\n",
       "3   OEKu0Rts0spELpbnucDKmA  bdfZdB2MTXlT6-RBjSIpQg    5.0   Pho Bistro\n",
       "4   4MSEWnnxKhNdh7GgNHM-YQ  bdfZdB2MTXlT6-RBjSIpQg    4.0   Pho Bistro\n",
       "5   gJyqSThsQDT-04VE2gR1TQ  bdfZdB2MTXlT6-RBjSIpQg    4.0   Pho Bistro\n",
       "6   sR3Na7Z0-9-wuv9cU8TW1w  bdfZdB2MTXlT6-RBjSIpQg    1.0   Pho Bistro\n",
       "7   GVoSyA04GQTLZb77Bz_kvw  bdfZdB2MTXlT6-RBjSIpQg    1.0   Pho Bistro\n",
       "8   qb0tcchdlgGBndTMdjMvoA  bdfZdB2MTXlT6-RBjSIpQg    4.0   Pho Bistro\n",
       "9   8eOQq1bHixOS75rfucPwGw  bdfZdB2MTXlT6-RBjSIpQg    1.0   Pho Bistro\n",
       "10  GXDoO2doMtx6MT4qahM_lQ  bdfZdB2MTXlT6-RBjSIpQg    3.0   Pho Bistro\n",
       "11  SFetwganEk8LDm749kxXYQ  bdfZdB2MTXlT6-RBjSIpQg    1.0   Pho Bistro\n",
       "12  Xfg1N7IaefsTjF4n7WBpAQ  bdfZdB2MTXlT6-RBjSIpQg    3.0   Pho Bistro\n",
       "13  rm9thuLUABkf6_Aq5HeZhw  bdfZdB2MTXlT6-RBjSIpQg    4.0   Pho Bistro\n",
       "14  nfLL3vn_4-zXAfoh7hWiZg  MbzgGsMQpGyVrUJXi_Jw0Q    5.0  Dawn Patrol"
      ]
     },
     "execution_count": 63,
     "metadata": {},
     "output_type": "execute_result"
    }
   ],
   "source": [
    "df_recsys = pd.read_csv('./../data/sb_restaurants_clean.csv', index_col=0)\n",
    "df_recsys.head(15)"
   ]
  },
  {
   "cell_type": "code",
   "execution_count": 3,
   "metadata": {},
   "outputs": [
    {
     "data": {
      "text/plain": [
       "(37830, 4)"
      ]
     },
     "execution_count": 3,
     "metadata": {},
     "output_type": "execute_result"
    }
   ],
   "source": [
    "df_recsys.shape "
   ]
  },
  {
   "attachments": {},
   "cell_type": "markdown",
   "metadata": {},
   "source": [
    "Iniciamos por elegir a algun usuario aleatorio y vemos qué restaurantes ha calificado"
   ]
  },
  {
   "cell_type": "code",
   "execution_count": 78,
   "metadata": {},
   "outputs": [
    {
     "name": "stdout",
     "output_type": "stream",
     "text": [
      "Total de restaurantes calificados por el usuario:  5\n"
     ]
    },
    {
     "data": {
      "text/html": [
       "<div>\n",
       "<style scoped>\n",
       "    .dataframe tbody tr th:only-of-type {\n",
       "        vertical-align: middle;\n",
       "    }\n",
       "\n",
       "    .dataframe tbody tr th {\n",
       "        vertical-align: top;\n",
       "    }\n",
       "\n",
       "    .dataframe thead th {\n",
       "        text-align: right;\n",
       "    }\n",
       "</style>\n",
       "<table border=\"1\" class=\"dataframe\">\n",
       "  <thead>\n",
       "    <tr style=\"text-align: right;\">\n",
       "      <th></th>\n",
       "      <th>user_id</th>\n",
       "      <th>business_id</th>\n",
       "      <th>stars</th>\n",
       "      <th>name</th>\n",
       "    </tr>\n",
       "  </thead>\n",
       "  <tbody>\n",
       "    <tr>\n",
       "      <th>4</th>\n",
       "      <td>4MSEWnnxKhNdh7GgNHM-YQ</td>\n",
       "      <td>bdfZdB2MTXlT6-RBjSIpQg</td>\n",
       "      <td>4.0</td>\n",
       "      <td>Pho Bistro</td>\n",
       "    </tr>\n",
       "    <tr>\n",
       "      <th>1586</th>\n",
       "      <td>4MSEWnnxKhNdh7GgNHM-YQ</td>\n",
       "      <td>ju4YP8SLdR_BmWr_-Xh83Q</td>\n",
       "      <td>3.0</td>\n",
       "      <td>Phamous Cafe</td>\n",
       "    </tr>\n",
       "    <tr>\n",
       "      <th>10500</th>\n",
       "      <td>4MSEWnnxKhNdh7GgNHM-YQ</td>\n",
       "      <td>zJpZ-uQ_F0XVgK1u98uWSg</td>\n",
       "      <td>5.0</td>\n",
       "      <td>Gloria's Gourmet Kitchen</td>\n",
       "    </tr>\n",
       "    <tr>\n",
       "      <th>25128</th>\n",
       "      <td>4MSEWnnxKhNdh7GgNHM-YQ</td>\n",
       "      <td>IoAubn7CpU2rqcURxUo1MA</td>\n",
       "      <td>4.0</td>\n",
       "      <td>Barb's Pies</td>\n",
       "    </tr>\n",
       "    <tr>\n",
       "      <th>34522</th>\n",
       "      <td>4MSEWnnxKhNdh7GgNHM-YQ</td>\n",
       "      <td>yM7eA2uuH3Ch7OYVj3PKSw</td>\n",
       "      <td>5.0</td>\n",
       "      <td>Wabi Sabi</td>\n",
       "    </tr>\n",
       "  </tbody>\n",
       "</table>\n",
       "</div>"
      ],
      "text/plain": [
       "                      user_id             business_id  stars  \\\n",
       "4      4MSEWnnxKhNdh7GgNHM-YQ  bdfZdB2MTXlT6-RBjSIpQg    4.0   \n",
       "1586   4MSEWnnxKhNdh7GgNHM-YQ  ju4YP8SLdR_BmWr_-Xh83Q    3.0   \n",
       "10500  4MSEWnnxKhNdh7GgNHM-YQ  zJpZ-uQ_F0XVgK1u98uWSg    5.0   \n",
       "25128  4MSEWnnxKhNdh7GgNHM-YQ  IoAubn7CpU2rqcURxUo1MA    4.0   \n",
       "34522  4MSEWnnxKhNdh7GgNHM-YQ  yM7eA2uuH3Ch7OYVj3PKSw    5.0   \n",
       "\n",
       "                           name  \n",
       "4                    Pho Bistro  \n",
       "1586               Phamous Cafe  \n",
       "10500  Gloria's Gourmet Kitchen  \n",
       "25128               Barb's Pies  \n",
       "34522                 Wabi Sabi  "
      ]
     },
     "execution_count": 78,
     "metadata": {},
     "output_type": "execute_result"
    }
   ],
   "source": [
    "# Choose a random user\n",
    "idx = (df_recsys['user_id']== '4MSEWnnxKhNdh7GgNHM-YQ')\n",
    "\n",
    "# print user's reviews\n",
    "print('Total de restaurantes calificados por el usuario: ',idx.sum())\n",
    "df_recsys[idx]"
   ]
  },
  {
   "attachments": {},
   "cell_type": "markdown",
   "metadata": {},
   "source": [
    "Ahora generamos una matriz de utilidad, la cual nos proporciona la calificación que cada usuario le da a cada restaurante que ha visitado."
   ]
  },
  {
   "cell_type": "code",
   "execution_count": 5,
   "metadata": {},
   "outputs": [
    {
     "data": {
      "text/html": [
       "<div>\n",
       "<style scoped>\n",
       "    .dataframe tbody tr th:only-of-type {\n",
       "        vertical-align: middle;\n",
       "    }\n",
       "\n",
       "    .dataframe tbody tr th {\n",
       "        vertical-align: top;\n",
       "    }\n",
       "\n",
       "    .dataframe thead th {\n",
       "        text-align: right;\n",
       "    }\n",
       "</style>\n",
       "<table border=\"1\" class=\"dataframe\">\n",
       "  <thead>\n",
       "    <tr style=\"text-align: right;\">\n",
       "      <th>name</th>\n",
       "      <th>101 Deli</th>\n",
       "      <th>1114 Sports Bar &amp; Games</th>\n",
       "      <th>4 Eggs &amp; Pizza</th>\n",
       "      <th>A Slice of Woodstock's</th>\n",
       "      <th>AH Juice Organics</th>\n",
       "      <th>AR Catering</th>\n",
       "      <th>ASIE</th>\n",
       "      <th>Aksum Restaurant</th>\n",
       "      <th>Aladdin Cafe</th>\n",
       "      <th>Alcazar Tapas Bar</th>\n",
       "      <th>...</th>\n",
       "      <th>Yona Redz</th>\n",
       "      <th>Your Choice</th>\n",
       "      <th>Your Place Thai Restaurant</th>\n",
       "      <th>Yume Sushi Japanese Restaurant</th>\n",
       "      <th>Z's - Taphouse &amp; Grill</th>\n",
       "      <th>Zaytoon</th>\n",
       "      <th>Zen Yai Thai Cuisine</th>\n",
       "      <th>Zizzo's Coffeehouse</th>\n",
       "      <th>Zodo's Bowlero Bowling &amp; Beyond</th>\n",
       "      <th>Zookers Cafe</th>\n",
       "    </tr>\n",
       "    <tr>\n",
       "      <th>user_id</th>\n",
       "      <th></th>\n",
       "      <th></th>\n",
       "      <th></th>\n",
       "      <th></th>\n",
       "      <th></th>\n",
       "      <th></th>\n",
       "      <th></th>\n",
       "      <th></th>\n",
       "      <th></th>\n",
       "      <th></th>\n",
       "      <th></th>\n",
       "      <th></th>\n",
       "      <th></th>\n",
       "      <th></th>\n",
       "      <th></th>\n",
       "      <th></th>\n",
       "      <th></th>\n",
       "      <th></th>\n",
       "      <th></th>\n",
       "      <th></th>\n",
       "      <th></th>\n",
       "    </tr>\n",
       "  </thead>\n",
       "  <tbody>\n",
       "    <tr>\n",
       "      <th>---zemaUC8WeJeWKqS6p9Q</th>\n",
       "      <td>0</td>\n",
       "      <td>0</td>\n",
       "      <td>0</td>\n",
       "      <td>0</td>\n",
       "      <td>0</td>\n",
       "      <td>0</td>\n",
       "      <td>0</td>\n",
       "      <td>0</td>\n",
       "      <td>0</td>\n",
       "      <td>0</td>\n",
       "      <td>...</td>\n",
       "      <td>0</td>\n",
       "      <td>0</td>\n",
       "      <td>0</td>\n",
       "      <td>0</td>\n",
       "      <td>0</td>\n",
       "      <td>0</td>\n",
       "      <td>0.0</td>\n",
       "      <td>0</td>\n",
       "      <td>0</td>\n",
       "      <td>0</td>\n",
       "    </tr>\n",
       "    <tr>\n",
       "      <th>--2F5G5LKt3h2cAXJbZptg</th>\n",
       "      <td>0</td>\n",
       "      <td>0</td>\n",
       "      <td>0</td>\n",
       "      <td>0</td>\n",
       "      <td>0</td>\n",
       "      <td>0</td>\n",
       "      <td>0</td>\n",
       "      <td>0</td>\n",
       "      <td>0</td>\n",
       "      <td>0</td>\n",
       "      <td>...</td>\n",
       "      <td>0</td>\n",
       "      <td>0</td>\n",
       "      <td>0</td>\n",
       "      <td>0</td>\n",
       "      <td>0</td>\n",
       "      <td>0</td>\n",
       "      <td>0.0</td>\n",
       "      <td>0</td>\n",
       "      <td>0</td>\n",
       "      <td>0</td>\n",
       "    </tr>\n",
       "    <tr>\n",
       "      <th>--7XOV5T9yZR5w1DIy_Dog</th>\n",
       "      <td>0</td>\n",
       "      <td>0</td>\n",
       "      <td>0</td>\n",
       "      <td>0</td>\n",
       "      <td>0</td>\n",
       "      <td>0</td>\n",
       "      <td>0</td>\n",
       "      <td>0</td>\n",
       "      <td>0</td>\n",
       "      <td>0</td>\n",
       "      <td>...</td>\n",
       "      <td>0</td>\n",
       "      <td>0</td>\n",
       "      <td>0</td>\n",
       "      <td>0</td>\n",
       "      <td>0</td>\n",
       "      <td>0</td>\n",
       "      <td>0.0</td>\n",
       "      <td>0</td>\n",
       "      <td>0</td>\n",
       "      <td>0</td>\n",
       "    </tr>\n",
       "    <tr>\n",
       "      <th>--8YG4BoOWFGjdh9Fxop-w</th>\n",
       "      <td>0</td>\n",
       "      <td>0</td>\n",
       "      <td>0</td>\n",
       "      <td>0</td>\n",
       "      <td>0</td>\n",
       "      <td>0</td>\n",
       "      <td>0</td>\n",
       "      <td>0</td>\n",
       "      <td>0</td>\n",
       "      <td>0</td>\n",
       "      <td>...</td>\n",
       "      <td>0</td>\n",
       "      <td>0</td>\n",
       "      <td>0</td>\n",
       "      <td>0</td>\n",
       "      <td>0</td>\n",
       "      <td>0</td>\n",
       "      <td>0.0</td>\n",
       "      <td>0</td>\n",
       "      <td>0</td>\n",
       "      <td>0</td>\n",
       "    </tr>\n",
       "    <tr>\n",
       "      <th>--_QWYpJ2In2IgW_bouSuQ</th>\n",
       "      <td>0</td>\n",
       "      <td>0</td>\n",
       "      <td>0</td>\n",
       "      <td>0</td>\n",
       "      <td>0</td>\n",
       "      <td>0</td>\n",
       "      <td>0</td>\n",
       "      <td>0</td>\n",
       "      <td>0</td>\n",
       "      <td>0</td>\n",
       "      <td>...</td>\n",
       "      <td>0</td>\n",
       "      <td>0</td>\n",
       "      <td>0</td>\n",
       "      <td>0</td>\n",
       "      <td>0</td>\n",
       "      <td>0</td>\n",
       "      <td>0.0</td>\n",
       "      <td>0</td>\n",
       "      <td>0</td>\n",
       "      <td>0</td>\n",
       "    </tr>\n",
       "    <tr>\n",
       "      <th>--kinfHwmtdjz03g8B8z8Q</th>\n",
       "      <td>0</td>\n",
       "      <td>0</td>\n",
       "      <td>0</td>\n",
       "      <td>0</td>\n",
       "      <td>0</td>\n",
       "      <td>0</td>\n",
       "      <td>0</td>\n",
       "      <td>0</td>\n",
       "      <td>0</td>\n",
       "      <td>0</td>\n",
       "      <td>...</td>\n",
       "      <td>0</td>\n",
       "      <td>0</td>\n",
       "      <td>0</td>\n",
       "      <td>0</td>\n",
       "      <td>0</td>\n",
       "      <td>0</td>\n",
       "      <td>0.0</td>\n",
       "      <td>0</td>\n",
       "      <td>0</td>\n",
       "      <td>0</td>\n",
       "    </tr>\n",
       "    <tr>\n",
       "      <th>-0-Cbo-4YzKmoJXpnckwbg</th>\n",
       "      <td>0</td>\n",
       "      <td>0</td>\n",
       "      <td>0</td>\n",
       "      <td>0</td>\n",
       "      <td>0</td>\n",
       "      <td>0</td>\n",
       "      <td>0</td>\n",
       "      <td>0</td>\n",
       "      <td>0</td>\n",
       "      <td>0</td>\n",
       "      <td>...</td>\n",
       "      <td>0</td>\n",
       "      <td>0</td>\n",
       "      <td>0</td>\n",
       "      <td>0</td>\n",
       "      <td>0</td>\n",
       "      <td>0</td>\n",
       "      <td>0.0</td>\n",
       "      <td>0</td>\n",
       "      <td>0</td>\n",
       "      <td>0</td>\n",
       "    </tr>\n",
       "    <tr>\n",
       "      <th>-0-TtVhV4PIUoDpUCOC0uQ</th>\n",
       "      <td>0</td>\n",
       "      <td>0</td>\n",
       "      <td>0</td>\n",
       "      <td>0</td>\n",
       "      <td>0</td>\n",
       "      <td>0</td>\n",
       "      <td>0</td>\n",
       "      <td>0</td>\n",
       "      <td>0</td>\n",
       "      <td>0</td>\n",
       "      <td>...</td>\n",
       "      <td>0</td>\n",
       "      <td>0</td>\n",
       "      <td>0</td>\n",
       "      <td>0</td>\n",
       "      <td>0</td>\n",
       "      <td>0</td>\n",
       "      <td>0.0</td>\n",
       "      <td>0</td>\n",
       "      <td>0</td>\n",
       "      <td>0</td>\n",
       "    </tr>\n",
       "    <tr>\n",
       "      <th>-06H6BQ5cS5A5Jpd_iiwCA</th>\n",
       "      <td>0</td>\n",
       "      <td>0</td>\n",
       "      <td>0</td>\n",
       "      <td>0</td>\n",
       "      <td>0</td>\n",
       "      <td>0</td>\n",
       "      <td>0</td>\n",
       "      <td>0</td>\n",
       "      <td>0</td>\n",
       "      <td>0</td>\n",
       "      <td>...</td>\n",
       "      <td>0</td>\n",
       "      <td>0</td>\n",
       "      <td>0</td>\n",
       "      <td>0</td>\n",
       "      <td>0</td>\n",
       "      <td>0</td>\n",
       "      <td>0.0</td>\n",
       "      <td>0</td>\n",
       "      <td>0</td>\n",
       "      <td>0</td>\n",
       "    </tr>\n",
       "    <tr>\n",
       "      <th>-09MjuD1Q0KwSYwdYbAzMw</th>\n",
       "      <td>0</td>\n",
       "      <td>0</td>\n",
       "      <td>0</td>\n",
       "      <td>0</td>\n",
       "      <td>0</td>\n",
       "      <td>0</td>\n",
       "      <td>0</td>\n",
       "      <td>0</td>\n",
       "      <td>0</td>\n",
       "      <td>0</td>\n",
       "      <td>...</td>\n",
       "      <td>0</td>\n",
       "      <td>0</td>\n",
       "      <td>0</td>\n",
       "      <td>0</td>\n",
       "      <td>0</td>\n",
       "      <td>0</td>\n",
       "      <td>0.0</td>\n",
       "      <td>0</td>\n",
       "      <td>0</td>\n",
       "      <td>0</td>\n",
       "    </tr>\n",
       "  </tbody>\n",
       "</table>\n",
       "<p>10 rows × 659 columns</p>\n",
       "</div>"
      ],
      "text/plain": [
       "name                    101 Deli  1114 Sports Bar & Games  4 Eggs & Pizza  \\\n",
       "user_id                                                                     \n",
       "---zemaUC8WeJeWKqS6p9Q         0                        0               0   \n",
       "--2F5G5LKt3h2cAXJbZptg         0                        0               0   \n",
       "--7XOV5T9yZR5w1DIy_Dog         0                        0               0   \n",
       "--8YG4BoOWFGjdh9Fxop-w         0                        0               0   \n",
       "--_QWYpJ2In2IgW_bouSuQ         0                        0               0   \n",
       "--kinfHwmtdjz03g8B8z8Q         0                        0               0   \n",
       "-0-Cbo-4YzKmoJXpnckwbg         0                        0               0   \n",
       "-0-TtVhV4PIUoDpUCOC0uQ         0                        0               0   \n",
       "-06H6BQ5cS5A5Jpd_iiwCA         0                        0               0   \n",
       "-09MjuD1Q0KwSYwdYbAzMw         0                        0               0   \n",
       "\n",
       "name                    A Slice of Woodstock's  AH Juice Organics  \\\n",
       "user_id                                                             \n",
       "---zemaUC8WeJeWKqS6p9Q                       0                  0   \n",
       "--2F5G5LKt3h2cAXJbZptg                       0                  0   \n",
       "--7XOV5T9yZR5w1DIy_Dog                       0                  0   \n",
       "--8YG4BoOWFGjdh9Fxop-w                       0                  0   \n",
       "--_QWYpJ2In2IgW_bouSuQ                       0                  0   \n",
       "--kinfHwmtdjz03g8B8z8Q                       0                  0   \n",
       "-0-Cbo-4YzKmoJXpnckwbg                       0                  0   \n",
       "-0-TtVhV4PIUoDpUCOC0uQ                       0                  0   \n",
       "-06H6BQ5cS5A5Jpd_iiwCA                       0                  0   \n",
       "-09MjuD1Q0KwSYwdYbAzMw                       0                  0   \n",
       "\n",
       "name                    AR Catering  ASIE  Aksum Restaurant  Aladdin Cafe  \\\n",
       "user_id                                                                     \n",
       "---zemaUC8WeJeWKqS6p9Q            0     0                 0             0   \n",
       "--2F5G5LKt3h2cAXJbZptg            0     0                 0             0   \n",
       "--7XOV5T9yZR5w1DIy_Dog            0     0                 0             0   \n",
       "--8YG4BoOWFGjdh9Fxop-w            0     0                 0             0   \n",
       "--_QWYpJ2In2IgW_bouSuQ            0     0                 0             0   \n",
       "--kinfHwmtdjz03g8B8z8Q            0     0                 0             0   \n",
       "-0-Cbo-4YzKmoJXpnckwbg            0     0                 0             0   \n",
       "-0-TtVhV4PIUoDpUCOC0uQ            0     0                 0             0   \n",
       "-06H6BQ5cS5A5Jpd_iiwCA            0     0                 0             0   \n",
       "-09MjuD1Q0KwSYwdYbAzMw            0     0                 0             0   \n",
       "\n",
       "name                    Alcazar Tapas Bar  ...  Yona Redz  Your Choice  \\\n",
       "user_id                                    ...                           \n",
       "---zemaUC8WeJeWKqS6p9Q                  0  ...          0            0   \n",
       "--2F5G5LKt3h2cAXJbZptg                  0  ...          0            0   \n",
       "--7XOV5T9yZR5w1DIy_Dog                  0  ...          0            0   \n",
       "--8YG4BoOWFGjdh9Fxop-w                  0  ...          0            0   \n",
       "--_QWYpJ2In2IgW_bouSuQ                  0  ...          0            0   \n",
       "--kinfHwmtdjz03g8B8z8Q                  0  ...          0            0   \n",
       "-0-Cbo-4YzKmoJXpnckwbg                  0  ...          0            0   \n",
       "-0-TtVhV4PIUoDpUCOC0uQ                  0  ...          0            0   \n",
       "-06H6BQ5cS5A5Jpd_iiwCA                  0  ...          0            0   \n",
       "-09MjuD1Q0KwSYwdYbAzMw                  0  ...          0            0   \n",
       "\n",
       "name                    Your Place Thai Restaurant  \\\n",
       "user_id                                              \n",
       "---zemaUC8WeJeWKqS6p9Q                           0   \n",
       "--2F5G5LKt3h2cAXJbZptg                           0   \n",
       "--7XOV5T9yZR5w1DIy_Dog                           0   \n",
       "--8YG4BoOWFGjdh9Fxop-w                           0   \n",
       "--_QWYpJ2In2IgW_bouSuQ                           0   \n",
       "--kinfHwmtdjz03g8B8z8Q                           0   \n",
       "-0-Cbo-4YzKmoJXpnckwbg                           0   \n",
       "-0-TtVhV4PIUoDpUCOC0uQ                           0   \n",
       "-06H6BQ5cS5A5Jpd_iiwCA                           0   \n",
       "-09MjuD1Q0KwSYwdYbAzMw                           0   \n",
       "\n",
       "name                    Yume Sushi Japanese Restaurant  \\\n",
       "user_id                                                  \n",
       "---zemaUC8WeJeWKqS6p9Q                               0   \n",
       "--2F5G5LKt3h2cAXJbZptg                               0   \n",
       "--7XOV5T9yZR5w1DIy_Dog                               0   \n",
       "--8YG4BoOWFGjdh9Fxop-w                               0   \n",
       "--_QWYpJ2In2IgW_bouSuQ                               0   \n",
       "--kinfHwmtdjz03g8B8z8Q                               0   \n",
       "-0-Cbo-4YzKmoJXpnckwbg                               0   \n",
       "-0-TtVhV4PIUoDpUCOC0uQ                               0   \n",
       "-06H6BQ5cS5A5Jpd_iiwCA                               0   \n",
       "-09MjuD1Q0KwSYwdYbAzMw                               0   \n",
       "\n",
       "name                    Z's - Taphouse & Grill  Zaytoon  Zen Yai Thai Cuisine  \\\n",
       "user_id                                                                         \n",
       "---zemaUC8WeJeWKqS6p9Q                       0        0                   0.0   \n",
       "--2F5G5LKt3h2cAXJbZptg                       0        0                   0.0   \n",
       "--7XOV5T9yZR5w1DIy_Dog                       0        0                   0.0   \n",
       "--8YG4BoOWFGjdh9Fxop-w                       0        0                   0.0   \n",
       "--_QWYpJ2In2IgW_bouSuQ                       0        0                   0.0   \n",
       "--kinfHwmtdjz03g8B8z8Q                       0        0                   0.0   \n",
       "-0-Cbo-4YzKmoJXpnckwbg                       0        0                   0.0   \n",
       "-0-TtVhV4PIUoDpUCOC0uQ                       0        0                   0.0   \n",
       "-06H6BQ5cS5A5Jpd_iiwCA                       0        0                   0.0   \n",
       "-09MjuD1Q0KwSYwdYbAzMw                       0        0                   0.0   \n",
       "\n",
       "name                    Zizzo's Coffeehouse  Zodo's Bowlero Bowling & Beyond  \\\n",
       "user_id                                                                        \n",
       "---zemaUC8WeJeWKqS6p9Q                    0                                0   \n",
       "--2F5G5LKt3h2cAXJbZptg                    0                                0   \n",
       "--7XOV5T9yZR5w1DIy_Dog                    0                                0   \n",
       "--8YG4BoOWFGjdh9Fxop-w                    0                                0   \n",
       "--_QWYpJ2In2IgW_bouSuQ                    0                                0   \n",
       "--kinfHwmtdjz03g8B8z8Q                    0                                0   \n",
       "-0-Cbo-4YzKmoJXpnckwbg                    0                                0   \n",
       "-0-TtVhV4PIUoDpUCOC0uQ                    0                                0   \n",
       "-06H6BQ5cS5A5Jpd_iiwCA                    0                                0   \n",
       "-09MjuD1Q0KwSYwdYbAzMw                    0                                0   \n",
       "\n",
       "name                    Zookers Cafe  \n",
       "user_id                               \n",
       "---zemaUC8WeJeWKqS6p9Q             0  \n",
       "--2F5G5LKt3h2cAXJbZptg             0  \n",
       "--7XOV5T9yZR5w1DIy_Dog             0  \n",
       "--8YG4BoOWFGjdh9Fxop-w             0  \n",
       "--_QWYpJ2In2IgW_bouSuQ             0  \n",
       "--kinfHwmtdjz03g8B8z8Q             0  \n",
       "-0-Cbo-4YzKmoJXpnckwbg             0  \n",
       "-0-TtVhV4PIUoDpUCOC0uQ             0  \n",
       "-06H6BQ5cS5A5Jpd_iiwCA             0  \n",
       "-09MjuD1Q0KwSYwdYbAzMw             0  \n",
       "\n",
       "[10 rows x 659 columns]"
      ]
     },
     "execution_count": 5,
     "metadata": {},
     "output_type": "execute_result"
    }
   ],
   "source": [
    "# Create a utility matrix\n",
    "UtlMtrx = df_recsys.pivot_table(values='stars', index='user_id', columns='name', fill_value=0)\n",
    "\n",
    "UtlMtrx.head(10) "
   ]
  },
  {
   "attachments": {},
   "cell_type": "markdown",
   "metadata": {},
   "source": [
    "- Observamos que una gran cantidad de valores en la matriz son 0. De los 659 restaurantes es de esperarse que los usuarios solo han evaluado unos cuantos, por eso la gran cantidad de 0´s. \n",
    "- En álgebra lineal este tipo de matriz se le conoce como matriz dispersa (sparse matrix)."
   ]
  },
  {
   "cell_type": "code",
   "execution_count": 13,
   "metadata": {},
   "outputs": [
    {
     "name": "stdout",
     "output_type": "stream",
     "text": [
      "Total de elementos de la matriz de utilidad: 15465412\n",
      "Total de elementos diferentes de cero: 37166\n",
      "Porcentaje de elementos diferentes de cero: 0.2%\n"
     ]
    }
   ],
   "source": [
    "print('Total de elementos de la matriz de utilidad: %d' % (UtlMtrx.size))\n",
    "print('Total de elementos diferentes de cero: %d' % (np.count_nonzero(UtlMtrx)))\n",
    "print('Porcentaje de elementos diferentes de cero: %.1f%%' % (100 * np.count_nonzero(UtlMtrx) / UtlMtrx.size))"
   ]
  },
  {
   "attachments": {},
   "cell_type": "markdown",
   "metadata": {},
   "source": [
    "Construiremos el sistema de recomendación utilizando el metódo de reducción de dimensionalidad SVD (Singular Value Decomposition) o Descomposicion de Valores Singulares. \n",
    "\n",
    "Este tipo de solución es utilizado comunmente como un primer sistema de recomendación, basado en las calificaciones que los usuarios han asignado en el pasado."
   ]
  },
  {
   "attachments": {},
   "cell_type": "markdown",
   "metadata": {},
   "source": [
    "Para obtener la información relacionada con los restaurantes, tomamos la transpuesta de la matriz de utilidad."
   ]
  },
  {
   "cell_type": "code",
   "execution_count": 6,
   "metadata": {},
   "outputs": [
    {
     "data": {
      "text/plain": [
       "(659, 23468)"
      ]
     },
     "execution_count": 6,
     "metadata": {},
     "output_type": "execute_result"
    }
   ],
   "source": [
    "# Transpose the utility matrix\n",
    "X = UtlMtrx.T\n",
    "X.shape"
   ]
  },
  {
   "cell_type": "code",
   "execution_count": 41,
   "metadata": {},
   "outputs": [
    {
     "name": "stdout",
     "output_type": "stream",
     "text": [
      "Cantidad de información simplificada con los primeros 7 vectores singulares:\n",
      "95.8%\n"
     ]
    }
   ],
   "source": [
    "SVD = TruncatedSVD(n_components=658, random_state=42)  \n",
    "SVD.fit(X)\n",
    "\n",
    "num_sv = 7\n",
    "\n",
    "print('Cantidad de información simplificada con los primeros %d vectores singulares:' % num_sv)\n",
    "print('%.1f%%' %  (100 * (1- (SVD.singular_values_[0:num_sv]).sum() / (SVD.singular_values_).sum())))"
   ]
  },
  {
   "attachments": {},
   "cell_type": "markdown",
   "metadata": {},
   "source": [
    "### "
   ]
  },
  {
   "cell_type": "code",
   "execution_count": 42,
   "metadata": {},
   "outputs": [
    {
     "data": {
      "text/plain": [
       "(659, 7)"
      ]
     },
     "execution_count": 42,
     "metadata": {},
     "output_type": "execute_result"
    }
   ],
   "source": [
    "num_sv = 7\n",
    "\n",
    "SVD = TruncatedSVD(n_components=num_sv, random_state=1)\n",
    "\n",
    "resultant_matrix = SVD.fit_transform(X)\n",
    "resultant_matrix.shape"
   ]
  },
  {
   "cell_type": "code",
   "execution_count": 98,
   "metadata": {},
   "outputs": [
    {
     "data": {
      "text/plain": [
       "array([[1.        , 0.55515233, 0.41973699, 0.65740579, 0.64679698],\n",
       "       [0.55515233, 1.        , 0.98189643, 0.18109368, 0.94777665],\n",
       "       [0.41973699, 0.98189643, 1.        , 0.05835276, 0.92436228],\n",
       "       [0.65740579, 0.18109368, 0.05835276, 1.        , 0.11235041],\n",
       "       [0.64679698, 0.94777665, 0.92436228, 0.11235041, 1.        ]])"
      ]
     },
     "execution_count": 98,
     "metadata": {},
     "output_type": "execute_result"
    }
   ],
   "source": [
    "# Pearson correlation matrix\n",
    "corrMtx = np.corrcoef(resultant_matrix)\n",
    "corrMtx.shape  \n",
    "corrMtx[0:5,0:5]\n"
   ]
  },
  {
   "attachments": {},
   "cell_type": "markdown",
   "metadata": {},
   "source": [
    "Elegimos un restaurante para ver su correlación con todos los demás en la matriz"
   ]
  },
  {
   "cell_type": "code",
   "execution_count": 130,
   "metadata": {},
   "outputs": [
    {
     "data": {
      "text/plain": [
       "582"
      ]
     },
     "execution_count": 130,
     "metadata": {},
     "output_type": "execute_result"
    }
   ],
   "source": [
    "# Look for The Lark index\n",
    "\n",
    "liked = 'The Lark'\n",
    "\n",
    "names = UtlMtrx.columns \n",
    "names_list = list(names)\n",
    "id_liked = names_list.index(liked)\n",
    "\n",
    "id_liked"
   ]
  },
  {
   "cell_type": "code",
   "execution_count": 131,
   "metadata": {},
   "outputs": [
    {
     "name": "stdout",
     "output_type": "stream",
     "text": [
      "(659,)\n"
     ]
    },
    {
     "data": {
      "text/plain": [
       "array([0.66494485, 0.93200037, 0.88695815, 0.37695801, 0.91948546,\n",
       "       0.12857906, 0.95105676, 0.89818658, 0.9203617 , 0.90324919])"
      ]
     },
     "execution_count": 131,
     "metadata": {},
     "output_type": "execute_result"
    }
   ],
   "source": [
    "# Check the correlation with some restaurants\n",
    "corr_recom = corrMtx[id_liked]\n",
    "print(corr_recom.shape)\n",
    "corr_recom[0:10]"
   ]
  },
  {
   "attachments": {},
   "cell_type": "markdown",
   "metadata": {},
   "source": [
    "Comprobamos que la correlacion de el restaurante elegido consigo mismo es = 1"
   ]
  },
  {
   "cell_type": "code",
   "execution_count": 132,
   "metadata": {},
   "outputs": [
    {
     "data": {
      "text/plain": [
       "0.9999999999999999"
      ]
     },
     "execution_count": 132,
     "metadata": {},
     "output_type": "execute_result"
    }
   ],
   "source": [
    "# Check restaurant correlation with itself\n",
    "corr_recom[id_liked]"
   ]
  },
  {
   "attachments": {},
   "cell_type": "markdown",
   "metadata": {},
   "source": [
    "### Obtenemos las recomendaciones de los restaurantes seleccionados"
   ]
  },
  {
   "attachments": {},
   "cell_type": "markdown",
   "metadata": {},
   "source": [
    "#### *Ejemplo 1*:"
   ]
  },
  {
   "cell_type": "code",
   "execution_count": 137,
   "metadata": {},
   "outputs": [
    {
     "name": "stdout",
     "output_type": "stream",
     "text": [
      "Recomendaciones: \n"
     ]
    },
    {
     "data": {
      "text/plain": [
       "[\"Ana's Taco Bar\",\n",
       " 'Beans BBQ and Catering',\n",
       " 'Biergarten',\n",
       " 'Bouchon',\n",
       " 'Cajé Coffee Roasters - Haley St',\n",
       " 'Coast & Olive',\n",
       " 'Dawn Patrol',\n",
       " 'Intermezzo By Wine Cask',\n",
       " \"Jack's Bistro & Famous Bagels\",\n",
       " 'Lucky Penny',\n",
       " 'Malibu Farm at Miramar',\n",
       " 'Merci To Go',\n",
       " 'Montecito Gourmet by Village Cheese & Wine',\n",
       " 'Sama Sama Kitchen',\n",
       " 'Shintori Sushi Factory',\n",
       " 'The Harbor Restaurant']"
      ]
     },
     "execution_count": 137,
     "metadata": {},
     "output_type": "execute_result"
    }
   ],
   "source": [
    "# Restaurant 'The Lark'\n",
    "\n",
    "print('Recomendaciones: ')\n",
    "list(names[(corr_recom > .97) & (corr_recom < .99)]) "
   ]
  },
  {
   "attachments": {},
   "cell_type": "markdown",
   "metadata": {},
   "source": [
    "Ordenamos de manera descendente de acuerdo a la correlación "
   ]
  },
  {
   "cell_type": "code",
   "execution_count": 139,
   "metadata": {},
   "outputs": [
    {
     "data": {
      "text/plain": [
       "[(0.9897254070135815, 'Shintori Sushi Factory'),\n",
       " (0.9864394995323224, 'Bouchon'),\n",
       " (0.9826120609276208, 'Malibu Farm at Miramar'),\n",
       " (0.9818476588916369, 'The Harbor Restaurant'),\n",
       " (0.9812980532356922, 'Biergarten'),\n",
       " (0.981057146332992, 'Lucky Penny'),\n",
       " (0.9802099655055196, 'Intermezzo By Wine Cask'),\n",
       " (0.9796908115707111, 'Merci To Go'),\n",
       " (0.977241751437632, \"Ana's Taco Bar\"),\n",
       " (0.9758169024694828, 'Beans BBQ and Catering'),\n",
       " (0.9734240399514472, 'Cajé Coffee Roasters - Haley St'),\n",
       " (0.9725699971747017, 'Coast & Olive'),\n",
       " (0.9715408853272126, 'Dawn Patrol'),\n",
       " (0.9714517566101355, 'Sama Sama Kitchen'),\n",
       " (0.9711297352604064, 'Montecito Gourmet by Village Cheese & Wine'),\n",
       " (0.9703032649598626, \"Jack's Bistro & Famous Bagels\")]"
      ]
     },
     "execution_count": 139,
     "metadata": {},
     "output_type": "execute_result"
    }
   ],
   "source": [
    "ids = (corr_recom > .97) & (corr_recom < 0.99)\n",
    "tmp = list()\n",
    "\n",
    "for i in range(len(names[ids])):\n",
    "    tmp.append((corr_recom[ids][i], names[ids][i]))\n",
    "\n",
    "sorted(tmp, key=lambda x:x[0], reverse=True) "
   ]
  },
  {
   "attachments": {},
   "cell_type": "markdown",
   "metadata": {},
   "source": [
    "_ _ _"
   ]
  },
  {
   "attachments": {},
   "cell_type": "markdown",
   "metadata": {},
   "source": [
    "#### *Ejemplo 2:*"
   ]
  },
  {
   "cell_type": "code",
   "execution_count": 140,
   "metadata": {},
   "outputs": [
    {
     "name": "stdout",
     "output_type": "stream",
     "text": [
      "Recomendaciones: \n"
     ]
    },
    {
     "data": {
      "text/plain": [
       "['Bluewater Grill - Santa Barbara',\n",
       " 'Breakwater Restaurant',\n",
       " \"Caruso's\",\n",
       " 'New Si Chuan Garden',\n",
       " 'Opal Restaurant & Bar',\n",
       " 'Roof Top Bistro & Bar',\n",
       " 'Santa Barbara FisHouse',\n",
       " 'The Funk Zone',\n",
       " 'Your Choice']"
      ]
     },
     "execution_count": 140,
     "metadata": {},
     "output_type": "execute_result"
    }
   ],
   "source": [
    "# Restaurant 'Sandbar'\n",
    "liked = 'Sandbar'\n",
    "\n",
    "id_liked = names_list.index(liked)\n",
    "corr_recom = corrMtx[id_liked]\n",
    "print('Recomendaciones: ')\n",
    "list(names[(corr_recom > .97) & (corr_recom < 0.99)])"
   ]
  },
  {
   "cell_type": "code",
   "execution_count": 141,
   "metadata": {},
   "outputs": [
    {
     "data": {
      "text/plain": [
       "[(0.9870209870983876, 'Opal Restaurant & Bar'),\n",
       " (0.986307556971767, \"Caruso's\"),\n",
       " (0.9844777407402455, 'The Funk Zone'),\n",
       " (0.9786889568146974, 'Breakwater Restaurant'),\n",
       " (0.9784217518060125, 'Santa Barbara FisHouse'),\n",
       " (0.9778500625915235, 'Roof Top Bistro & Bar'),\n",
       " (0.9770293816764639, 'Your Choice'),\n",
       " (0.9748661767806976, 'New Si Chuan Garden'),\n",
       " (0.9700119597403826, 'Bluewater Grill - Santa Barbara')]"
      ]
     },
     "execution_count": 141,
     "metadata": {},
     "output_type": "execute_result"
    }
   ],
   "source": [
    "ids = (corr_recom > .97) & (corr_recom < 0.99)\n",
    "tmp = list()\n",
    "\n",
    "for i in range(len(names[ids])):\n",
    "    tmp.append((corr_recom[ids][i], names[ids][i]))\n",
    "\n",
    "sorted(tmp, key=lambda x:x[0], reverse=True) "
   ]
  },
  {
   "attachments": {},
   "cell_type": "markdown",
   "metadata": {},
   "source": [
    "_ _ _"
   ]
  },
  {
   "attachments": {},
   "cell_type": "markdown",
   "metadata": {},
   "source": [
    "#### *Ejemplo 3*\n"
   ]
  },
  {
   "cell_type": "code",
   "execution_count": 100,
   "metadata": {},
   "outputs": [
    {
     "name": "stdout",
     "output_type": "stream",
     "text": [
      "Recomendaciones: \n"
     ]
    },
    {
     "data": {
      "text/plain": [
       "['Alessia Patisserie & Cafe ',\n",
       " 'Arigato Sushi',\n",
       " 'Barbareño',\n",
       " 'Beans BBQ and Catering',\n",
       " 'Biergarten',\n",
       " \"Bree'osh\",\n",
       " 'Cajé Coffee Roasters - Haley St',\n",
       " 'Ca’Dario - Montecito',\n",
       " 'Coast & Olive',\n",
       " 'Dawn Patrol',\n",
       " 'Empty Bowl Gourmet Noodle Bar',\n",
       " 'Helena Avenue Bakery',\n",
       " 'Hook And Press Donuts',\n",
       " 'Hotdog Mini Mart',\n",
       " 'M. Special Brewing Company',\n",
       " \"Matty's Hot Chicken\",\n",
       " 'Merci To Go',\n",
       " 'Modern Times Academy of Recreational Sciences',\n",
       " 'Olio E Limone Ristorante',\n",
       " 'Palihouse Santa Barbara',\n",
       " 'Sama Sama Kitchen',\n",
       " 'Santa Barbara Public Market',\n",
       " 'Scarlett Begonia',\n",
       " 'Shaker Mill',\n",
       " 'Stonehouse Restaurant',\n",
       " 'Tre Lune',\n",
       " 'Tyger Tyger']"
      ]
     },
     "execution_count": 100,
     "metadata": {},
     "output_type": "execute_result"
    }
   ],
   "source": [
    "# Restaurant 'La Super-Rica Taqueria'\n",
    "liked = 'La Super-Rica Taqueria'\n",
    "\n",
    "id_liked = names_list.index(liked)\n",
    "corr_recom = corrMtx[id_liked]\n",
    "print('Recomendaciones: ')\n",
    "list(names[(corr_recom > .97) & (corr_recom < 1)])"
   ]
  },
  {
   "cell_type": "code",
   "execution_count": 101,
   "metadata": {},
   "outputs": [
    {
     "data": {
      "text/plain": [
       "[(0.9976673700224502, 'Empty Bowl Gourmet Noodle Bar'),\n",
       " (0.9923020640278319, 'Helena Avenue Bakery'),\n",
       " (0.9886038360634839, 'Sama Sama Kitchen'),\n",
       " (0.9874513345615387, 'Scarlett Begonia'),\n",
       " (0.9855324088293036, 'Ca’Dario - Montecito'),\n",
       " (0.9855036854186333, 'Olio E Limone Ristorante'),\n",
       " (0.9854917131005185, 'Beans BBQ and Catering'),\n",
       " (0.9808548046705531, 'Santa Barbara Public Market'),\n",
       " (0.9804824693096913, 'Modern Times Academy of Recreational Sciences'),\n",
       " (0.9803076168902964, 'Cajé Coffee Roasters - Haley St'),\n",
       " (0.9791048015557641, 'Tyger Tyger'),\n",
       " (0.9782302416419174, 'Barbareño'),\n",
       " (0.9779941499149726, 'Alessia Patisserie & Cafe '),\n",
       " (0.9775090339539287, 'Tre Lune'),\n",
       " (0.9772521039973178, 'Shaker Mill'),\n",
       " (0.9770921739300092, 'Coast & Olive'),\n",
       " (0.9756743097794676, 'M. Special Brewing Company'),\n",
       " (0.9750232570217748, 'Merci To Go'),\n",
       " (0.9749660609090739, 'Arigato Sushi'),\n",
       " (0.9736917201722163, \"Matty's Hot Chicken\"),\n",
       " (0.9732983763966024, 'Hotdog Mini Mart'),\n",
       " (0.9729770105531682, 'Dawn Patrol'),\n",
       " (0.9718666928327506, 'Hook And Press Donuts'),\n",
       " (0.9715699550945067, 'Palihouse Santa Barbara'),\n",
       " (0.9714692760655018, \"Bree'osh\"),\n",
       " (0.9709585932136903, 'Biergarten'),\n",
       " (0.9706805324751963, 'Stonehouse Restaurant')]"
      ]
     },
     "execution_count": 101,
     "metadata": {},
     "output_type": "execute_result"
    }
   ],
   "source": [
    "ids = (corr_recom > .97) & (corr_recom < 1)\n",
    "tmp = list()\n",
    "\n",
    "for i in range(len(names[ids])):\n",
    "    tmp.append((corr_recom[ids][i], names[ids][i]))\n",
    "\n",
    "sorted(tmp, key=lambda x:x[0], reverse=True) "
   ]
  }
 ],
 "metadata": {
  "kernelspec": {
   "display_name": "Python 3",
   "language": "python",
   "name": "python3"
  },
  "language_info": {
   "codemirror_mode": {
    "name": "ipython",
    "version": 3
   },
   "file_extension": ".py",
   "mimetype": "text/x-python",
   "name": "python",
   "nbconvert_exporter": "python",
   "pygments_lexer": "ipython3",
   "version": "3.10.1"
  },
  "orig_nbformat": 4,
  "vscode": {
   "interpreter": {
    "hash": "aee8b7b246df8f9039afb4144a1f6fd8d2ca17a180786b69acc140d282b71a49"
   }
  }
 },
 "nbformat": 4,
 "nbformat_minor": 2
}
